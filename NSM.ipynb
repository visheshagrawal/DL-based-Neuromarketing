{
  "cells": [
    {
      "cell_type": "markdown",
      "metadata": {
        "id": "view-in-github",
        "colab_type": "text"
      },
      "source": [
        "<a href=\"https://colab.research.google.com/github/visheshagrawal/DL-based-Neuromarketing/blob/main/NSM.ipynb\" target=\"_parent\"><img src=\"https://colab.research.google.com/assets/colab-badge.svg\" alt=\"Open In Colab\"/></a>"
      ]
    },
    {
      "cell_type": "code",
      "execution_count": null,
      "metadata": {
        "id": "zYiaUQhZvCLR"
      },
      "outputs": [],
      "source": [
        "import pandas as pd\n",
        "import numpy as np\n",
        "from tqdm import tqdm\n",
        "from collections import defaultdict\n",
        "import matplotlib.pyplot as plt\n",
        "import os\n",
        "import itertools\n",
        "import json\n",
        "from sklearn.model_selection import train_test_split\n",
        "from sklearn.metrics import *\n",
        "from sklearn.svm import SVC\n",
        "from sklearn.decomposition import PCA\n",
        "from sklearn.tree import DecisionTreeClassifier\n",
        "from sklearn.svm import SVC\n",
        "from imblearn.ensemble import BalancedBaggingClassifier\n",
        "from sklearn.preprocessing import StandardScaler\n",
        "from xgboost import XGBClassifier\n",
        "from sklearn.ensemble import RandomForestClassifier, AdaBoostClassifier\n",
        "import warnings\n",
        "warnings.filterwarnings(\"ignore\")"
      ]
    },
    {
      "cell_type": "code",
      "source": [],
      "metadata": {
        "id": "nsF0WJOMbAzV"
      },
      "execution_count": null,
      "outputs": []
    },
    {
      "cell_type": "code",
      "execution_count": null,
      "metadata": {
        "colab": {
          "base_uri": "https://localhost:8080/"
        },
        "id": "zM-j8BM6JBEk",
        "outputId": "71cc2c6d-3923-4e41-ef6c-764030a333be"
      },
      "outputs": [
        {
          "output_type": "stream",
          "name": "stdout",
          "text": [
            "Mounted at /content/drive\n"
          ]
        }
      ],
      "source": [
        "from google.colab import drive\n",
        "drive.mount('/content/drive')"
      ]
    },
    {
      "cell_type": "code",
      "execution_count": null,
      "metadata": {
        "id": "HM-yBe6CvWtL"
      },
      "outputs": [],
      "source": [
        "dir = '/content/drive/MyDrive/Neuro-Marketing/processed_videos'"
      ]
    },
    {
      "cell_type": "code",
      "execution_count": null,
      "metadata": {
        "colab": {
          "base_uri": "https://localhost:8080/",
          "height": 35
        },
        "id": "_cF7_ZH_vogo",
        "outputId": "fb417c08-d4ac-42d2-f063-204abc29bd75"
      },
      "outputs": [
        {
          "output_type": "execute_result",
          "data": {
            "text/plain": [
              "'/content/drive/.shortcut-targets-by-id/15ceJOnSS-5QWTAsLa7Sbz34imGgk0Rr5/Neuro-Marketing/processed_videos'"
            ],
            "application/vnd.google.colaboratory.intrinsic+json": {
              "type": "string"
            }
          },
          "metadata": {},
          "execution_count": 4
        }
      ],
      "source": [
        "os.chdir(dir)\n",
        "os.getcwd()"
      ]
    },
    {
      "cell_type": "code",
      "execution_count": null,
      "metadata": {
        "id": "xIEixTNtvqTJ"
      },
      "outputs": [],
      "source": [
        "df1 = pd.read_csv('OpenfaceCSV/user00_0.csv')"
      ]
    },
    {
      "cell_type": "code",
      "execution_count": null,
      "metadata": {
        "colab": {
          "base_uri": "https://localhost:8080/",
          "height": 488
        },
        "id": "MflWQoSX-TDY",
        "outputId": "f7efb503-5426-4c8d-aafc-f9f4e66b3de5"
      },
      "outputs": [
        {
          "data": {
            "text/html": [
              "\n",
              "  <div id=\"df-cf8e057e-f9f8-4f26-8abe-2101b8c4cfbb\">\n",
              "    <div class=\"colab-df-container\">\n",
              "      <div>\n",
              "<style scoped>\n",
              "    .dataframe tbody tr th:only-of-type {\n",
              "        vertical-align: middle;\n",
              "    }\n",
              "\n",
              "    .dataframe tbody tr th {\n",
              "        vertical-align: top;\n",
              "    }\n",
              "\n",
              "    .dataframe thead th {\n",
              "        text-align: right;\n",
              "    }\n",
              "</style>\n",
              "<table border=\"1\" class=\"dataframe\">\n",
              "  <thead>\n",
              "    <tr style=\"text-align: right;\">\n",
              "      <th></th>\n",
              "      <th>frame</th>\n",
              "      <th>face_id</th>\n",
              "      <th>timestamp</th>\n",
              "      <th>confidence</th>\n",
              "      <th>success</th>\n",
              "      <th>gaze_0_x</th>\n",
              "      <th>gaze_0_y</th>\n",
              "      <th>gaze_0_z</th>\n",
              "      <th>gaze_1_x</th>\n",
              "      <th>gaze_1_y</th>\n",
              "      <th>...</th>\n",
              "      <th>AU12_c</th>\n",
              "      <th>AU14_c</th>\n",
              "      <th>AU15_c</th>\n",
              "      <th>AU17_c</th>\n",
              "      <th>AU20_c</th>\n",
              "      <th>AU23_c</th>\n",
              "      <th>AU25_c</th>\n",
              "      <th>AU26_c</th>\n",
              "      <th>AU28_c</th>\n",
              "      <th>AU45_c</th>\n",
              "    </tr>\n",
              "  </thead>\n",
              "  <tbody>\n",
              "    <tr>\n",
              "      <th>0</th>\n",
              "      <td>1</td>\n",
              "      <td>0</td>\n",
              "      <td>0.000</td>\n",
              "      <td>0.98</td>\n",
              "      <td>1</td>\n",
              "      <td>-0.007309</td>\n",
              "      <td>-0.030214</td>\n",
              "      <td>-0.999517</td>\n",
              "      <td>-0.161264</td>\n",
              "      <td>-0.000682</td>\n",
              "      <td>...</td>\n",
              "      <td>0.0</td>\n",
              "      <td>0.0</td>\n",
              "      <td>0.0</td>\n",
              "      <td>0.0</td>\n",
              "      <td>0.0</td>\n",
              "      <td>0.0</td>\n",
              "      <td>0.0</td>\n",
              "      <td>0.0</td>\n",
              "      <td>0.0</td>\n",
              "      <td>0.0</td>\n",
              "    </tr>\n",
              "    <tr>\n",
              "      <th>1</th>\n",
              "      <td>2</td>\n",
              "      <td>0</td>\n",
              "      <td>0.033</td>\n",
              "      <td>0.98</td>\n",
              "      <td>1</td>\n",
              "      <td>-0.016903</td>\n",
              "      <td>-0.056132</td>\n",
              "      <td>-0.998280</td>\n",
              "      <td>-0.139910</td>\n",
              "      <td>0.003130</td>\n",
              "      <td>...</td>\n",
              "      <td>0.0</td>\n",
              "      <td>0.0</td>\n",
              "      <td>0.0</td>\n",
              "      <td>0.0</td>\n",
              "      <td>0.0</td>\n",
              "      <td>0.0</td>\n",
              "      <td>0.0</td>\n",
              "      <td>0.0</td>\n",
              "      <td>0.0</td>\n",
              "      <td>0.0</td>\n",
              "    </tr>\n",
              "    <tr>\n",
              "      <th>2</th>\n",
              "      <td>3</td>\n",
              "      <td>0</td>\n",
              "      <td>0.067</td>\n",
              "      <td>0.98</td>\n",
              "      <td>1</td>\n",
              "      <td>-0.027205</td>\n",
              "      <td>-0.026695</td>\n",
              "      <td>-0.999273</td>\n",
              "      <td>-0.108946</td>\n",
              "      <td>0.007564</td>\n",
              "      <td>...</td>\n",
              "      <td>0.0</td>\n",
              "      <td>0.0</td>\n",
              "      <td>0.0</td>\n",
              "      <td>0.0</td>\n",
              "      <td>0.0</td>\n",
              "      <td>0.0</td>\n",
              "      <td>0.0</td>\n",
              "      <td>0.0</td>\n",
              "      <td>0.0</td>\n",
              "      <td>0.0</td>\n",
              "    </tr>\n",
              "    <tr>\n",
              "      <th>3</th>\n",
              "      <td>4</td>\n",
              "      <td>0</td>\n",
              "      <td>0.100</td>\n",
              "      <td>0.98</td>\n",
              "      <td>1</td>\n",
              "      <td>-0.002921</td>\n",
              "      <td>-0.018731</td>\n",
              "      <td>-0.999820</td>\n",
              "      <td>-0.193743</td>\n",
              "      <td>0.059582</td>\n",
              "      <td>...</td>\n",
              "      <td>0.0</td>\n",
              "      <td>0.0</td>\n",
              "      <td>0.0</td>\n",
              "      <td>0.0</td>\n",
              "      <td>0.0</td>\n",
              "      <td>0.0</td>\n",
              "      <td>0.0</td>\n",
              "      <td>0.0</td>\n",
              "      <td>0.0</td>\n",
              "      <td>0.0</td>\n",
              "    </tr>\n",
              "    <tr>\n",
              "      <th>4</th>\n",
              "      <td>5</td>\n",
              "      <td>0</td>\n",
              "      <td>0.133</td>\n",
              "      <td>0.98</td>\n",
              "      <td>1</td>\n",
              "      <td>-0.003916</td>\n",
              "      <td>-0.028821</td>\n",
              "      <td>-0.999577</td>\n",
              "      <td>-0.162528</td>\n",
              "      <td>0.049093</td>\n",
              "      <td>...</td>\n",
              "      <td>0.0</td>\n",
              "      <td>0.0</td>\n",
              "      <td>0.0</td>\n",
              "      <td>0.0</td>\n",
              "      <td>0.0</td>\n",
              "      <td>0.0</td>\n",
              "      <td>0.0</td>\n",
              "      <td>1.0</td>\n",
              "      <td>0.0</td>\n",
              "      <td>0.0</td>\n",
              "    </tr>\n",
              "    <tr>\n",
              "      <th>...</th>\n",
              "      <td>...</td>\n",
              "      <td>...</td>\n",
              "      <td>...</td>\n",
              "      <td>...</td>\n",
              "      <td>...</td>\n",
              "      <td>...</td>\n",
              "      <td>...</td>\n",
              "      <td>...</td>\n",
              "      <td>...</td>\n",
              "      <td>...</td>\n",
              "      <td>...</td>\n",
              "      <td>...</td>\n",
              "      <td>...</td>\n",
              "      <td>...</td>\n",
              "      <td>...</td>\n",
              "      <td>...</td>\n",
              "      <td>...</td>\n",
              "      <td>...</td>\n",
              "      <td>...</td>\n",
              "      <td>...</td>\n",
              "      <td>...</td>\n",
              "    </tr>\n",
              "    <tr>\n",
              "      <th>2545</th>\n",
              "      <td>2546</td>\n",
              "      <td>0</td>\n",
              "      <td>84.833</td>\n",
              "      <td>0.98</td>\n",
              "      <td>1</td>\n",
              "      <td>0.013076</td>\n",
              "      <td>-0.068764</td>\n",
              "      <td>-0.997547</td>\n",
              "      <td>-0.136655</td>\n",
              "      <td>-0.015236</td>\n",
              "      <td>...</td>\n",
              "      <td>0.0</td>\n",
              "      <td>0.0</td>\n",
              "      <td>0.0</td>\n",
              "      <td>1.0</td>\n",
              "      <td>0.0</td>\n",
              "      <td>0.0</td>\n",
              "      <td>0.0</td>\n",
              "      <td>0.0</td>\n",
              "      <td>0.0</td>\n",
              "      <td>0.0</td>\n",
              "    </tr>\n",
              "    <tr>\n",
              "      <th>2546</th>\n",
              "      <td>2547</td>\n",
              "      <td>0</td>\n",
              "      <td>84.867</td>\n",
              "      <td>0.98</td>\n",
              "      <td>1</td>\n",
              "      <td>0.114743</td>\n",
              "      <td>-0.082149</td>\n",
              "      <td>-0.989993</td>\n",
              "      <td>-0.114615</td>\n",
              "      <td>-0.008582</td>\n",
              "      <td>...</td>\n",
              "      <td>0.0</td>\n",
              "      <td>0.0</td>\n",
              "      <td>0.0</td>\n",
              "      <td>1.0</td>\n",
              "      <td>0.0</td>\n",
              "      <td>0.0</td>\n",
              "      <td>0.0</td>\n",
              "      <td>0.0</td>\n",
              "      <td>0.0</td>\n",
              "      <td>0.0</td>\n",
              "    </tr>\n",
              "    <tr>\n",
              "      <th>2547</th>\n",
              "      <td>2548</td>\n",
              "      <td>0</td>\n",
              "      <td>84.900</td>\n",
              "      <td>0.98</td>\n",
              "      <td>1</td>\n",
              "      <td>0.096200</td>\n",
              "      <td>-0.162935</td>\n",
              "      <td>-0.981936</td>\n",
              "      <td>-0.137152</td>\n",
              "      <td>0.014543</td>\n",
              "      <td>...</td>\n",
              "      <td>0.0</td>\n",
              "      <td>0.0</td>\n",
              "      <td>0.0</td>\n",
              "      <td>1.0</td>\n",
              "      <td>0.0</td>\n",
              "      <td>0.0</td>\n",
              "      <td>0.0</td>\n",
              "      <td>0.0</td>\n",
              "      <td>0.0</td>\n",
              "      <td>0.0</td>\n",
              "    </tr>\n",
              "    <tr>\n",
              "      <th>2548</th>\n",
              "      <td>2549</td>\n",
              "      <td>0</td>\n",
              "      <td>84.933</td>\n",
              "      <td>0.98</td>\n",
              "      <td>1</td>\n",
              "      <td>0.014681</td>\n",
              "      <td>-0.060960</td>\n",
              "      <td>-0.998032</td>\n",
              "      <td>-0.124077</td>\n",
              "      <td>0.010681</td>\n",
              "      <td>...</td>\n",
              "      <td>0.0</td>\n",
              "      <td>0.0</td>\n",
              "      <td>0.0</td>\n",
              "      <td>0.0</td>\n",
              "      <td>0.0</td>\n",
              "      <td>0.0</td>\n",
              "      <td>0.0</td>\n",
              "      <td>0.0</td>\n",
              "      <td>0.0</td>\n",
              "      <td>0.0</td>\n",
              "    </tr>\n",
              "    <tr>\n",
              "      <th>2549</th>\n",
              "      <td>2550</td>\n",
              "      <td>0</td>\n",
              "      <td>84.967</td>\n",
              "      <td>0.98</td>\n",
              "      <td>1</td>\n",
              "      <td>0.011002</td>\n",
              "      <td>-0.057546</td>\n",
              "      <td>-0.998282</td>\n",
              "      <td>-0.113417</td>\n",
              "      <td>0.037562</td>\n",
              "      <td>...</td>\n",
              "      <td>0.0</td>\n",
              "      <td>0.0</td>\n",
              "      <td>0.0</td>\n",
              "      <td>0.0</td>\n",
              "      <td>0.0</td>\n",
              "      <td>0.0</td>\n",
              "      <td>0.0</td>\n",
              "      <td>0.0</td>\n",
              "      <td>0.0</td>\n",
              "      <td>0.0</td>\n",
              "    </tr>\n",
              "  </tbody>\n",
              "</table>\n",
              "<p>2550 rows × 714 columns</p>\n",
              "</div>\n",
              "      <button class=\"colab-df-convert\" onclick=\"convertToInteractive('df-cf8e057e-f9f8-4f26-8abe-2101b8c4cfbb')\"\n",
              "              title=\"Convert this dataframe to an interactive table.\"\n",
              "              style=\"display:none;\">\n",
              "        \n",
              "  <svg xmlns=\"http://www.w3.org/2000/svg\" height=\"24px\"viewBox=\"0 0 24 24\"\n",
              "       width=\"24px\">\n",
              "    <path d=\"M0 0h24v24H0V0z\" fill=\"none\"/>\n",
              "    <path d=\"M18.56 5.44l.94 2.06.94-2.06 2.06-.94-2.06-.94-.94-2.06-.94 2.06-2.06.94zm-11 1L8.5 8.5l.94-2.06 2.06-.94-2.06-.94L8.5 2.5l-.94 2.06-2.06.94zm10 10l.94 2.06.94-2.06 2.06-.94-2.06-.94-.94-2.06-.94 2.06-2.06.94z\"/><path d=\"M17.41 7.96l-1.37-1.37c-.4-.4-.92-.59-1.43-.59-.52 0-1.04.2-1.43.59L10.3 9.45l-7.72 7.72c-.78.78-.78 2.05 0 2.83L4 21.41c.39.39.9.59 1.41.59.51 0 1.02-.2 1.41-.59l7.78-7.78 2.81-2.81c.8-.78.8-2.07 0-2.86zM5.41 20L4 18.59l7.72-7.72 1.47 1.35L5.41 20z\"/>\n",
              "  </svg>\n",
              "      </button>\n",
              "      \n",
              "  <style>\n",
              "    .colab-df-container {\n",
              "      display:flex;\n",
              "      flex-wrap:wrap;\n",
              "      gap: 12px;\n",
              "    }\n",
              "\n",
              "    .colab-df-convert {\n",
              "      background-color: #E8F0FE;\n",
              "      border: none;\n",
              "      border-radius: 50%;\n",
              "      cursor: pointer;\n",
              "      display: none;\n",
              "      fill: #1967D2;\n",
              "      height: 32px;\n",
              "      padding: 0 0 0 0;\n",
              "      width: 32px;\n",
              "    }\n",
              "\n",
              "    .colab-df-convert:hover {\n",
              "      background-color: #E2EBFA;\n",
              "      box-shadow: 0px 1px 2px rgba(60, 64, 67, 0.3), 0px 1px 3px 1px rgba(60, 64, 67, 0.15);\n",
              "      fill: #174EA6;\n",
              "    }\n",
              "\n",
              "    [theme=dark] .colab-df-convert {\n",
              "      background-color: #3B4455;\n",
              "      fill: #D2E3FC;\n",
              "    }\n",
              "\n",
              "    [theme=dark] .colab-df-convert:hover {\n",
              "      background-color: #434B5C;\n",
              "      box-shadow: 0px 1px 3px 1px rgba(0, 0, 0, 0.15);\n",
              "      filter: drop-shadow(0px 1px 2px rgba(0, 0, 0, 0.3));\n",
              "      fill: #FFFFFF;\n",
              "    }\n",
              "  </style>\n",
              "\n",
              "      <script>\n",
              "        const buttonEl =\n",
              "          document.querySelector('#df-cf8e057e-f9f8-4f26-8abe-2101b8c4cfbb button.colab-df-convert');\n",
              "        buttonEl.style.display =\n",
              "          google.colab.kernel.accessAllowed ? 'block' : 'none';\n",
              "\n",
              "        async function convertToInteractive(key) {\n",
              "          const element = document.querySelector('#df-cf8e057e-f9f8-4f26-8abe-2101b8c4cfbb');\n",
              "          const dataTable =\n",
              "            await google.colab.kernel.invokeFunction('convertToInteractive',\n",
              "                                                     [key], {});\n",
              "          if (!dataTable) return;\n",
              "\n",
              "          const docLinkHtml = 'Like what you see? Visit the ' +\n",
              "            '<a target=\"_blank\" href=https://colab.research.google.com/notebooks/data_table.ipynb>data table notebook</a>'\n",
              "            + ' to learn more about interactive tables.';\n",
              "          element.innerHTML = '';\n",
              "          dataTable['output_type'] = 'display_data';\n",
              "          await google.colab.output.renderOutput(dataTable, element);\n",
              "          const docLink = document.createElement('div');\n",
              "          docLink.innerHTML = docLinkHtml;\n",
              "          element.appendChild(docLink);\n",
              "        }\n",
              "      </script>\n",
              "    </div>\n",
              "  </div>\n",
              "  "
            ],
            "text/plain": [
              "      frame  face_id  timestamp  confidence  success  gaze_0_x  gaze_0_y  \\\n",
              "0         1        0      0.000        0.98        1 -0.007309 -0.030214   \n",
              "1         2        0      0.033        0.98        1 -0.016903 -0.056132   \n",
              "2         3        0      0.067        0.98        1 -0.027205 -0.026695   \n",
              "3         4        0      0.100        0.98        1 -0.002921 -0.018731   \n",
              "4         5        0      0.133        0.98        1 -0.003916 -0.028821   \n",
              "...     ...      ...        ...         ...      ...       ...       ...   \n",
              "2545   2546        0     84.833        0.98        1  0.013076 -0.068764   \n",
              "2546   2547        0     84.867        0.98        1  0.114743 -0.082149   \n",
              "2547   2548        0     84.900        0.98        1  0.096200 -0.162935   \n",
              "2548   2549        0     84.933        0.98        1  0.014681 -0.060960   \n",
              "2549   2550        0     84.967        0.98        1  0.011002 -0.057546   \n",
              "\n",
              "      gaze_0_z  gaze_1_x  gaze_1_y  ...  AU12_c  AU14_c  AU15_c  AU17_c  \\\n",
              "0    -0.999517 -0.161264 -0.000682  ...     0.0     0.0     0.0     0.0   \n",
              "1    -0.998280 -0.139910  0.003130  ...     0.0     0.0     0.0     0.0   \n",
              "2    -0.999273 -0.108946  0.007564  ...     0.0     0.0     0.0     0.0   \n",
              "3    -0.999820 -0.193743  0.059582  ...     0.0     0.0     0.0     0.0   \n",
              "4    -0.999577 -0.162528  0.049093  ...     0.0     0.0     0.0     0.0   \n",
              "...        ...       ...       ...  ...     ...     ...     ...     ...   \n",
              "2545 -0.997547 -0.136655 -0.015236  ...     0.0     0.0     0.0     1.0   \n",
              "2546 -0.989993 -0.114615 -0.008582  ...     0.0     0.0     0.0     1.0   \n",
              "2547 -0.981936 -0.137152  0.014543  ...     0.0     0.0     0.0     1.0   \n",
              "2548 -0.998032 -0.124077  0.010681  ...     0.0     0.0     0.0     0.0   \n",
              "2549 -0.998282 -0.113417  0.037562  ...     0.0     0.0     0.0     0.0   \n",
              "\n",
              "      AU20_c  AU23_c  AU25_c  AU26_c  AU28_c  AU45_c  \n",
              "0        0.0     0.0     0.0     0.0     0.0     0.0  \n",
              "1        0.0     0.0     0.0     0.0     0.0     0.0  \n",
              "2        0.0     0.0     0.0     0.0     0.0     0.0  \n",
              "3        0.0     0.0     0.0     0.0     0.0     0.0  \n",
              "4        0.0     0.0     0.0     1.0     0.0     0.0  \n",
              "...      ...     ...     ...     ...     ...     ...  \n",
              "2545     0.0     0.0     0.0     0.0     0.0     0.0  \n",
              "2546     0.0     0.0     0.0     0.0     0.0     0.0  \n",
              "2547     0.0     0.0     0.0     0.0     0.0     0.0  \n",
              "2548     0.0     0.0     0.0     0.0     0.0     0.0  \n",
              "2549     0.0     0.0     0.0     0.0     0.0     0.0  \n",
              "\n",
              "[2550 rows x 714 columns]"
            ]
          },
          "execution_count": 9,
          "metadata": {},
          "output_type": "execute_result"
        }
      ],
      "source": [
        "df1"
      ]
    },
    {
      "cell_type": "code",
      "execution_count": null,
      "metadata": {
        "id": "WEl7mOfxv00E"
      },
      "outputs": [],
      "source": [
        "all_files = []\n",
        "for (dir_path, dir_names, file_names) in os.walk(dir + '/OpenfaceCSV/'):\n",
        "    all_files.extend(file_names)\n",
        "# print(all_files)"
      ]
    },
    {
      "cell_type": "code",
      "execution_count": null,
      "metadata": {
        "id": "TVFShay-wazy"
      },
      "outputs": [],
      "source": []
    },
    {
      "cell_type": "markdown",
      "metadata": {
        "id": "_UiXUDQF-W15"
      },
      "source": [
        "### Label Creation"
      ]
    },
    {
      "cell_type": "markdown",
      "metadata": {
        "id": "dsalPiwsqQ26"
      },
      "source": [
        "#### Multi Label Creation"
      ]
    },
    {
      "cell_type": "code",
      "execution_count": null,
      "metadata": {
        "id": "MxC7Ki-x1UmO",
        "colab": {
          "base_uri": "https://localhost:8080/"
        },
        "outputId": "74248420-421c-4546-86a1-08f0c40a17b7"
      },
      "outputs": [
        {
          "output_type": "stream",
          "name": "stderr",
          "text": [
            "100%|██████████| 41/41 [00:18<00:00,  2.28it/s]\n"
          ]
        }
      ],
      "source": [
        "all_files = []\n",
        "sam_reverse_change_map = {0:4, 1:3, 2:2, 3:1, 4:0}\n",
        "for (dir_path, dir_names, file_names) in os.walk('../sample-data_new'):\n",
        "    for f in file_names:\n",
        "        if \".csv\" in f:\n",
        "            all_files.append(f)\n",
        "\n",
        "vid_name_to_num = {'one':1,\n",
        "                   'two':2,\n",
        "                   'three':3,\n",
        "                   'four':4,\n",
        "                   'five':5,\n",
        "                   'six':6,\n",
        "                   'seven':7,\n",
        "                   'eight':8,\n",
        "                   'nine':9,\n",
        "                   'ten':10,\n",
        "                   'eleven':11,\n",
        "                   'twelve':12,\n",
        "                   'thirteen':13,\n",
        "                   'fourteen':14}\n",
        "data = defaultdict(list)\n",
        "for f in tqdm(all_files):\n",
        "    # print(f)\n",
        "    df = pd.read_csv('../sample-data_new/'+f, usecols = ['response', 'stimulus'])\n",
        "    df = df.iloc[-14*4:, :]\n",
        "    response = df['response'].tolist()\n",
        "    stimulus = df['stimulus'].tolist()\n",
        "    # print(response)\n",
        "    for i in range(14):\n",
        "        d,sam_valence,sam_arousal = json.loads(response[i*4+1]), int(response[i*4+2]), int(response[i*4+3])\n",
        "        seen = int(d['Q0'])\n",
        "        valence = int(d['Q1'])\n",
        "        arousal = int(d['Q2'])\n",
        "        share1 = int(d['Q3'])\n",
        "        share2 = int(d['Q4'])\n",
        "        vid_num = vid_name_to_num[stimulus[i*4].split('/')[-1].split('.')[0]]\n",
        "        user_id = int(f.split('.')[0][4:])\n",
        "\n",
        "        data['user_id'].append(user_id)\n",
        "        data['vid_num'].append(vid_num)\n",
        "        data['sam_valence'].append(sam_reverse_change_map[sam_valence])\n",
        "        data['sam_arousal'].append(sam_reverse_change_map[sam_arousal])\n",
        "        data['seen'].append(seen)\n",
        "        data['valence'].append(valence)\n",
        "        data['arousal'].append(arousal)\n",
        "        data['share1'].append(share1)\n",
        "        data['share2'].append(share2)\n",
        "\n",
        "        # print(vid_num)\n",
        "\n",
        "\n",
        "        # print(r1, r2, r3, r4)\n",
        "        # break\n",
        "\n",
        "    # break\n",
        "df = pd.DataFrame()\n",
        "df['user_id'] = data['user_id']\n",
        "df['vid_num'] = data['vid_num']\n",
        "df['sam_valence'] = data['sam_valence']\n",
        "df['sam_arousal'] = data['sam_arousal']\n",
        "df['seen'] = data['seen']\n",
        "df['valence'] = data['valence']\n",
        "df['arousal'] = data['arousal']\n",
        "df['share1'] = data['share1']\n",
        "df['share2'] = data['share2']\n",
        "df.to_csv('../labels.csv', index = False)"
      ]
    },
    {
      "cell_type": "markdown",
      "metadata": {
        "id": "q0gAx_P0qUdM"
      },
      "source": [
        "#### Binary Label Creation"
      ]
    },
    {
      "cell_type": "code",
      "execution_count": null,
      "metadata": {
        "colab": {
          "base_uri": "https://localhost:8080/"
        },
        "id": "B_IlC8V0qOtA",
        "outputId": "d80f718a-ba67-4d43-c221-8d6c16236228"
      },
      "outputs": [
        {
          "output_type": "stream",
          "name": "stdout",
          "text": [
            "   user_id  vid_num  sam_valence  sam_arousal  seen  valence  arousal  share1  \\\n",
            "0        0        1            2            1     1        1        1       1   \n",
            "1        0        2            3            2     1        3        3       1   \n",
            "2        0        3            3            2     1        3        4       3   \n",
            "3        0        4            3            3     1        3        3       3   \n",
            "4        0        5            1            0     1        1        0       0   \n",
            "\n",
            "   share2  bin_sam_valence  bin_sam_arousal  bin_seen  bin_valence  \\\n",
            "0       0                0                0         1            0   \n",
            "1       1                1                1         1            1   \n",
            "2       3                1                1         1            1   \n",
            "3       4                1                1         1            1   \n",
            "4       0                0                0         1            0   \n",
            "\n",
            "   bin_arousal  bin_share1  bin_share2  \n",
            "0            0           1           1  \n",
            "1            1           1           1  \n",
            "2            1           1           1  \n",
            "3            1           1           1  \n",
            "4            0           0           0  \n"
          ]
        }
      ],
      "source": [
        "labels = pd.read_csv('/content/drive/MyDrive/Neuro-Marketing/labels.csv')\n",
        "# print(np.unique(labels[['vid_num']].values))\n",
        "means = defaultdict(list)\n",
        "for vn in range(1, 15):\n",
        "    df = labels.loc[labels['vid_num'] == vn]\n",
        "    df2 = list(df[[\"sam_valence\",\"sam_arousal\", \"seen\", \"valence\", \"arousal\", \"share1\", \"share2\"]].mean())\n",
        "    means[\"sam_valence\"].append(df2[0])\n",
        "    means[\"sam_arousal\"].append(df2[1])\n",
        "    means[\"seen\"].append(df2[2])\n",
        "    means[\"valence\"].append(df2[3])\n",
        "    means[\"arousal\"].append(df2[4])\n",
        "    means[\"share1\"].append(df2[5])\n",
        "    means[\"share2\"].append(df2[6])\n",
        "\n",
        "new_cols = defaultdict(list)\n",
        "for i in range(len(labels)):\n",
        "    user_id, vid_num, sam_valence, sam_arousal, seen, valence, arousal, share1, share2 = labels.iloc[i, :]\n",
        "\n",
        "    vid_num = vid_num - 1\n",
        "    # print(i, vid_num)\n",
        "\n",
        "    if sam_valence < means[\"sam_valence\"][vid_num]:\n",
        "        new_cols[\"bin_sam_valence\"].append(0)\n",
        "    else:\n",
        "        new_cols[\"bin_sam_valence\"].append(1)\n",
        "\n",
        "    if sam_valence < means[\"sam_arousal\"][vid_num]:\n",
        "        new_cols[\"bin_sam_arousal\"].append(0)\n",
        "    else:\n",
        "        new_cols[\"bin_sam_arousal\"].append(1)\n",
        "\n",
        "    if sam_valence < means[\"seen\"][vid_num]:\n",
        "        new_cols[\"bin_seen\"].append(0)\n",
        "    else:\n",
        "        new_cols[\"bin_seen\"].append(1)\n",
        "\n",
        "    if sam_valence < means[\"valence\"][vid_num]:\n",
        "        new_cols[\"bin_valence\"].append(0)\n",
        "    else:\n",
        "        new_cols[\"bin_valence\"].append(1)\n",
        "\n",
        "    if sam_valence < means[\"arousal\"][vid_num]:\n",
        "        new_cols[\"bin_arousal\"].append(0)\n",
        "    else:\n",
        "        new_cols[\"bin_arousal\"].append(1)\n",
        "\n",
        "    if sam_valence < means[\"share1\"][vid_num]:\n",
        "        new_cols[\"bin_share1\"].append(0)\n",
        "    else:\n",
        "        new_cols[\"bin_share1\"].append(1)\n",
        "\n",
        "    if sam_valence < means[\"share2\"][vid_num]:\n",
        "        new_cols[\"bin_share2\"].append(0)\n",
        "    else:\n",
        "        new_cols[\"bin_share2\"].append(1)\n",
        "\n",
        "labels[\"bin_sam_valence\"] = new_cols[\"bin_sam_valence\"]\n",
        "labels[\"bin_sam_arousal\"] = new_cols[\"bin_sam_arousal\"]\n",
        "labels[\"bin_seen\"] = new_cols[\"bin_seen\"]\n",
        "labels[\"bin_valence\"] = new_cols[\"bin_valence\"]\n",
        "labels[\"bin_arousal\"] = new_cols[\"bin_arousal\"]\n",
        "labels[\"bin_share1\"] = new_cols[\"bin_share1\"]\n",
        "labels[\"bin_share2\"] = new_cols[\"bin_share2\"]\n",
        "\n",
        "print(labels.shape)\n",
        "print(labels.head())\n",
        "labels.to_csv('/content/drive/MyDrive/Neuro-Marketing/labels.csv', index = False)"
      ]
    },
    {
      "cell_type": "markdown",
      "source": [
        "### Files shift for feature creation"
      ],
      "metadata": {
        "id": "7LxUXkARczBs"
      }
    },
    {
      "cell_type": "code",
      "source": [
        "# %%shell\n",
        "# # pwd\n",
        "# cp ad0/*.csv ../openfacecsv/\n",
        "# cp ad1/*.csv ../openfacecsv/\n",
        "# cp ad2/*.csv ../openfacecsv/\n",
        "# cp ad3/*.csv ../openfacecsv/\n",
        "# cp ad4/*.csv ../openfacecsv/\n",
        "# cp ad5/*.csv ../openfacecsv/\n",
        "# cp ad6/*.csv ../openfacecsv/\n",
        "# cp ad7/*.csv ../openfacecsv/\n",
        "# cp ad8/*.csv ../openfacecsv/\n",
        "# cp ad9/*.csv ../openfacecsv/\n",
        "# cp ad10/*.csv ../openfacecsv/\n",
        "# cp ad11/*.csv ../openfacecsv/\n",
        "# cp ad12/*.csv ../openfacecsv/\n",
        "# cp ad13/*.csv ../openfacecsv/"
      ],
      "metadata": {
        "id": "NsLgY_fofJNo"
      },
      "execution_count": null,
      "outputs": []
    },
    {
      "cell_type": "markdown",
      "metadata": {
        "id": "NcFJM_I_-cxp"
      },
      "source": [
        "### Feature Creation"
      ]
    },
    {
      "cell_type": "code",
      "execution_count": null,
      "metadata": {
        "colab": {
          "base_uri": "https://localhost:8080/",
          "height": 300
        },
        "id": "mKeNX2eJ1_uM",
        "outputId": "c4f5ddde-7c94-4d77-9d4c-11c025e645fa"
      },
      "outputs": [
        {
          "output_type": "stream",
          "name": "stderr",
          "text": [
            "100%|██████████| 574/574 [03:47<00:00,  2.53it/s]\n"
          ]
        },
        {
          "output_type": "execute_result",
          "data": {
            "text/plain": [
              "[<matplotlib.lines.Line2D at 0x7feb2afc2c10>]"
            ]
          },
          "metadata": {},
          "execution_count": 5
        },
        {
          "output_type": "display_data",
          "data": {
            "text/plain": [
              "<Figure size 432x288 with 1 Axes>"
            ],
            "image/png": "[encoded data removed]"
          },
          "metadata": {
            "needs_background": "light"
          }
        }
      ],
      "source": [
        "all_files = []\n",
        "for (dir_path, dir_names, file_names) in os.walk(dir + '/openfacecsv/'):\n",
        "    all_files.extend(file_names)\n",
        "# print(all_files)\n",
        "file_size = []\n",
        "\n",
        "for f in tqdm(all_files):\n",
        "    df = pd.read_csv(dir + '/openfacecsv/'+f)\n",
        "    file_size.append(len(df))\n",
        "file_size.sort(reverse = True)\n",
        "plt.plot(file_size)"
      ]
    },
    {
      "cell_type": "markdown",
      "source": [
        "#### All Frames Feature File"
      ],
      "metadata": {
        "id": "mWPyVpiWO8lH"
      }
    },
    {
      "cell_type": "code",
      "execution_count": null,
      "metadata": {
        "colab": {
          "base_uri": "https://localhost:8080/"
        },
        "id": "NkT7mB1_Afgq",
        "outputId": "70200587-2ebe-4b8e-bcf2-6c740914e3e2"
      },
      "outputs": [
        {
          "output_type": "stream",
          "name": "stderr",
          "text": [
            "100%|██████████| 574/574 [03:17<00:00,  2.90it/s]\n"
          ]
        },
        {
          "output_type": "stream",
          "name": "stdout",
          "text": [
            "0 200 200\n"
          ]
        },
        {
          "output_type": "stream",
          "name": "stderr",
          "text": [
            "100%|██████████| 200/200 [01:39<00:00,  2.01it/s]\n"
          ]
        },
        {
          "output_type": "stream",
          "name": "stdout",
          "text": [
            "200 400 200\n"
          ]
        },
        {
          "output_type": "stream",
          "name": "stderr",
          "text": [
            "100%|██████████| 200/200 [01:03<00:00,  3.15it/s]\n"
          ]
        },
        {
          "output_type": "stream",
          "name": "stdout",
          "text": [
            "400 574 174\n"
          ]
        },
        {
          "output_type": "stream",
          "name": "stderr",
          "text": [
            "100%|██████████| 174/174 [00:58<00:00,  2.97it/s]\n"
          ]
        },
        {
          "output_type": "stream",
          "name": "stdout",
          "text": [
            "Final Shape: (529, 449905)\n"
          ]
        }
      ],
      "source": [
        "min_len = 999999999\n",
        "for f in tqdm(all_files):\n",
        "    df = pd.read_csv(dir + '/openfacecsv/'+f)\n",
        "    df = df.iloc[:,1:]\n",
        "    user_id, ad_id = int(f.split('.')[0].split('_')[0][4:]), int(f.split('.')[0].split('_')[1]) + 1\n",
        "    use_rows = []\n",
        "    if(len(df)>=630):\n",
        "        for i in range(0, len(df), len(df)//630):\n",
        "            use_rows.append(i)\n",
        "        # print(use_rows)\n",
        "        min_len = min(min_len, len(use_rows))\n",
        "        df = df.iloc[use_rows, :].to_numpy().ravel()\n",
        "        data = [user_id, ad_id]\n",
        "        data.extend(df)\n",
        "        # min_len = min(min_len, len(data))\n",
        "\n",
        "features_names = list(pd.read_csv('/content/drive/MyDrive/Neuro-Marketing/processed_videos/openfacecsv/user00_0.csv').columns)\n",
        "# features_df = pd.DataFrame(columns = features_names)\n",
        "\n",
        "# counter_idx = 0\n",
        "dfs_to_be_concatenated = []\n",
        "for f_idx in range(0, len(all_files), 200):\n",
        "    start = f_idx\n",
        "    end = min(start + 200, len(all_files))\n",
        "    features_list = []\n",
        "    print(start, end, len(all_files[start:end]))\n",
        "    for f in tqdm(all_files[start:end]):\n",
        "        df = pd.read_csv(dir + '/openfacecsv/'+f)\n",
        "        df = df.iloc[:,1:]\n",
        "        user_id, ad_id = int(f.split('.')[0].split('_')[0][4:]), int(f.split('.')[0].split('_')[1]) + 1\n",
        "        use_rows = []\n",
        "        if(len(df)>=630):\n",
        "            for i in range(0, len(df), len(df)//630):\n",
        "                use_rows.append(i)\n",
        "            # print(use_rows)\n",
        "            use_rows = use_rows[:min_len]\n",
        "            df = df.iloc[use_rows, :].to_numpy().ravel()\n",
        "            data = [user_id, ad_id]\n",
        "            data.extend(df)\n",
        "            features_list.append(data)\n",
        "    to_be_concatenated_features_df = pd.DataFrame(data = features_list)\n",
        "    del features_list\n",
        "    dfs_to_be_concatenated.append(to_be_concatenated_features_df)\n",
        "features_df = pd.concat(dfs_to_be_concatenated)\n",
        "features_df.to_pickle('../features.pkl')\n",
        "print(\"Final Shape:\",features_df.shape)"
      ]
    },
    {
      "cell_type": "markdown",
      "metadata": {
        "id": "UI8NF0FE8X2N"
      },
      "source": [
        "#### Median Frames Feature File(Bi-LSTM)"
      ]
    },
    {
      "cell_type": "code",
      "execution_count": null,
      "metadata": {
        "colab": {
          "base_uri": "https://localhost:8080/"
        },
        "id": "4BWXbfXL8XSi",
        "outputId": "7849908a-a23e-44ea-a008-51d0fcbf9443"
      },
      "outputs": [
        {
          "output_type": "stream",
          "name": "stderr",
          "text": [
            "100%|██████████| 574/574 [02:52<00:00,  3.32it/s]\n",
            "100%|██████████| 574/574 [02:42<00:00,  3.53it/s]\n"
          ]
        }
      ],
      "source": [
        "min_len = 999999999\n",
        "for f in tqdm(all_files):\n",
        "    df = pd.read_csv(dir + '/openfacecsv/'+f)\n",
        "    # print(df)\n",
        "    # print(df.head())\n",
        "    # break\n",
        "    df = df.iloc[14::30,1:]\n",
        "    user_id, ad_id = int(f.split('.')[0].split('_')[0][4:]), int(f.split('.')[0].split('_')[1]) + 1\n",
        "    use_rows = []\n",
        "    if(len(df)>=21):\n",
        "        for i in range(0, len(df), len(df)//21):\n",
        "            use_rows.append(i)\n",
        "        # print(use_rows)\n",
        "        min_len = min(min_len, len(use_rows))\n",
        "        df = df.iloc[use_rows, :].to_numpy().ravel()\n",
        "        data = [user_id, ad_id]\n",
        "        data.extend(df)\n",
        "        # min_len = min(min_len, len(data))\n",
        "\n",
        "features_names = list(pd.read_csv('/content/drive/MyDrive/Neuro-Marketing/processed_videos/openfacecsv/user00_0.csv').columns)\n",
        "# features_df = pd.DataFrame(columns = features_names)\n",
        "features_list = []\n",
        "# counter_idx = 0\n",
        "for f in tqdm(all_files):\n",
        "    df = pd.read_csv(dir + '/openfacecsv/'+f)\n",
        "    # df = df.iloc[1:,:]\n",
        "    df = df.iloc[14::30,1:]\n",
        "    user_id, ad_id = int(f.split('.')[0].split('_')[0][4:]), int(f.split('.')[0].split('_')[1]) + 1\n",
        "    use_rows = []\n",
        "    if(len(df)>=21):\n",
        "        for i in range(0, len(df), len(df)//21):\n",
        "            use_rows.append(i)\n",
        "        # print(use_rows)\n",
        "        use_rows = use_rows[:min_len]\n",
        "        df = df.iloc[use_rows, :].to_numpy().ravel()\n",
        "        data = [user_id, ad_id]\n",
        "        data.extend(df)\n",
        "        features_list.append(data)"
      ]
    },
    {
      "cell_type": "code",
      "execution_count": null,
      "metadata": {
        "colab": {
          "base_uri": "https://localhost:8080/"
        },
        "id": "h8ZiYVS6G-cR",
        "outputId": "efd1f4f0-158d-4dad-9ba6-06242529bf3a"
      },
      "outputs": [
        {
          "output_type": "execute_result",
          "data": {
            "text/plain": [
              "21"
            ]
          },
          "metadata": {},
          "execution_count": 16
        }
      ],
      "source": [
        "min_len"
      ]
    },
    {
      "cell_type": "code",
      "execution_count": null,
      "metadata": {
        "id": "-auGmwF_G-Za"
      },
      "outputs": [],
      "source": [
        "features_df = pd.DataFrame(data = features_list)"
      ]
    },
    {
      "cell_type": "code",
      "execution_count": null,
      "metadata": {
        "id": "Or6K2zfAG-WN"
      },
      "outputs": [],
      "source": [
        "features_list = []"
      ]
    },
    {
      "cell_type": "code",
      "source": [
        "features_df.shape"
      ],
      "metadata": {
        "colab": {
          "base_uri": "https://localhost:8080/"
        },
        "id": "Jq6zGRuqYYQB",
        "outputId": "d24a3958-b61c-41f1-aa02-c0f2f696083a"
      },
      "execution_count": null,
      "outputs": [
        {
          "output_type": "execute_result",
          "data": {
            "text/plain": [
              "(531, 14975)"
            ]
          },
          "metadata": {},
          "execution_count": 15
        }
      ]
    },
    {
      "cell_type": "code",
      "execution_count": null,
      "metadata": {
        "id": "-A8WBma4G-Sm"
      },
      "outputs": [],
      "source": [
        "features_df.to_pickle('../median_features.pkl')"
      ]
    },
    {
      "cell_type": "code",
      "execution_count": null,
      "metadata": {
        "colab": {
          "base_uri": "https://localhost:8080/",
          "height": 488
        },
        "id": "C9N1X1DEHF-R",
        "outputId": "67583cc0-fad1-470e-a4bf-dc96c12692c2"
      },
      "outputs": [
        {
          "output_type": "execute_result",
          "data": {
            "text/plain": [
              "     0      1      2      3      4      5         6         7         8      \\\n",
              "0       13      1    0.0  0.233   0.98    1.0  0.060575 -0.077685 -0.995136   \n",
              "1       12      1    0.0  0.014   0.98    1.0 -0.180028 -0.008295 -0.983627   \n",
              "2        0      1    0.0  0.233   0.98    1.0 -0.073169  0.000113 -0.997320   \n",
              "3       20      1    0.0  0.014   0.98    1.0 -0.030381 -0.057344 -0.997892   \n",
              "4       14      1    0.0  0.233   0.93    1.0  0.143612  0.196879 -0.969853   \n",
              "..     ...    ...    ...    ...    ...    ...       ...       ...       ...   \n",
              "526     25     14    0.0  0.233   0.98    1.0  0.017376  0.079002 -0.996723   \n",
              "527     37     14    0.0  0.233   0.98    1.0  0.044193  0.059291 -0.997262   \n",
              "528     36     14    0.0  0.233   0.98    1.0  0.160417  0.041905 -0.986159   \n",
              "529      4     14    0.0  0.014   0.98    1.0 -0.067458  0.226827 -0.971596   \n",
              "530      8     14    0.0  0.233   0.88    1.0 -0.030974 -0.074448 -0.996744   \n",
              "\n",
              "        9      ...  14965  14966  14967  14968  14969  14970  14971  14972  \\\n",
              "0   -0.105556  ...    0.0    0.0    0.0    0.0    0.0    0.0    0.0    0.0   \n",
              "1   -0.360142  ...    0.0    1.0    0.0    1.0    0.0    1.0    0.0    0.0   \n",
              "2   -0.184507  ...    0.0    0.0    0.0    0.0    0.0    0.0    0.0    0.0   \n",
              "3   -0.151510  ...    1.0    1.0    1.0    0.0    0.0    1.0    1.0    0.0   \n",
              "4   -0.112321  ...    0.0    0.0    0.0    0.0    1.0    0.0    1.0    1.0   \n",
              "..        ...  ...    ...    ...    ...    ...    ...    ...    ...    ...   \n",
              "526  0.054401  ...    0.0    0.0    0.0    0.0    0.0    1.0    0.0    0.0   \n",
              "527 -0.150065  ...    0.0    1.0    0.0    0.0    0.0    0.0    0.0    0.0   \n",
              "528 -0.076111  ...    0.0    0.0    0.0    1.0    0.0    0.0    0.0    0.0   \n",
              "529 -0.164781  ...    0.0    1.0    0.0    0.0    0.0    0.0    0.0    0.0   \n",
              "530  0.002819  ...    0.0    1.0    0.0    0.0    0.0    1.0    0.0    0.0   \n",
              "\n",
              "     14973  14974  \n",
              "0      0.0    1.0  \n",
              "1      0.0    1.0  \n",
              "2      0.0    0.0  \n",
              "3      0.0    0.0  \n",
              "4      0.0    0.0  \n",
              "..     ...    ...  \n",
              "526    0.0    0.0  \n",
              "527    0.0    0.0  \n",
              "528    0.0    0.0  \n",
              "529    0.0    0.0  \n",
              "530    0.0    0.0  \n",
              "\n",
              "[531 rows x 14975 columns]"
            ],
            "text/html": [
              "\n",
              "  <div id=\"df-0dc1177c-be76-4e11-a777-dcced9b2f710\">\n",
              "    <div class=\"colab-df-container\">\n",
              "      <div>\n",
              "<style scoped>\n",
              "    .dataframe tbody tr th:only-of-type {\n",
              "        vertical-align: middle;\n",
              "    }\n",
              "\n",
              "    .dataframe tbody tr th {\n",
              "        vertical-align: top;\n",
              "    }\n",
              "\n",
              "    .dataframe thead th {\n",
              "        text-align: right;\n",
              "    }\n",
              "</style>\n",
              "<table border=\"1\" class=\"dataframe\">\n",
              "  <thead>\n",
              "    <tr style=\"text-align: right;\">\n",
              "      <th></th>\n",
              "      <th>0</th>\n",
              "      <th>1</th>\n",
              "      <th>2</th>\n",
              "      <th>3</th>\n",
              "      <th>4</th>\n",
              "      <th>5</th>\n",
              "      <th>6</th>\n",
              "      <th>7</th>\n",
              "      <th>8</th>\n",
              "      <th>9</th>\n",
              "      <th>...</th>\n",
              "      <th>14965</th>\n",
              "      <th>14966</th>\n",
              "      <th>14967</th>\n",
              "      <th>14968</th>\n",
              "      <th>14969</th>\n",
              "      <th>14970</th>\n",
              "      <th>14971</th>\n",
              "      <th>14972</th>\n",
              "      <th>14973</th>\n",
              "      <th>14974</th>\n",
              "    </tr>\n",
              "  </thead>\n",
              "  <tbody>\n",
              "    <tr>\n",
              "      <th>0</th>\n",
              "      <td>13</td>\n",
              "      <td>1</td>\n",
              "      <td>0.0</td>\n",
              "      <td>0.233</td>\n",
              "      <td>0.98</td>\n",
              "      <td>1.0</td>\n",
              "      <td>0.060575</td>\n",
              "      <td>-0.077685</td>\n",
              "      <td>-0.995136</td>\n",
              "      <td>-0.105556</td>\n",
              "      <td>...</td>\n",
              "      <td>0.0</td>\n",
              "      <td>0.0</td>\n",
              "      <td>0.0</td>\n",
              "      <td>0.0</td>\n",
              "      <td>0.0</td>\n",
              "      <td>0.0</td>\n",
              "      <td>0.0</td>\n",
              "      <td>0.0</td>\n",
              "      <td>0.0</td>\n",
              "      <td>1.0</td>\n",
              "    </tr>\n",
              "    <tr>\n",
              "      <th>1</th>\n",
              "      <td>12</td>\n",
              "      <td>1</td>\n",
              "      <td>0.0</td>\n",
              "      <td>0.014</td>\n",
              "      <td>0.98</td>\n",
              "      <td>1.0</td>\n",
              "      <td>-0.180028</td>\n",
              "      <td>-0.008295</td>\n",
              "      <td>-0.983627</td>\n",
              "      <td>-0.360142</td>\n",
              "      <td>...</td>\n",
              "      <td>0.0</td>\n",
              "      <td>1.0</td>\n",
              "      <td>0.0</td>\n",
              "      <td>1.0</td>\n",
              "      <td>0.0</td>\n",
              "      <td>1.0</td>\n",
              "      <td>0.0</td>\n",
              "      <td>0.0</td>\n",
              "      <td>0.0</td>\n",
              "      <td>1.0</td>\n",
              "    </tr>\n",
              "    <tr>\n",
              "      <th>2</th>\n",
              "      <td>0</td>\n",
              "      <td>1</td>\n",
              "      <td>0.0</td>\n",
              "      <td>0.233</td>\n",
              "      <td>0.98</td>\n",
              "      <td>1.0</td>\n",
              "      <td>-0.073169</td>\n",
              "      <td>0.000113</td>\n",
              "      <td>-0.997320</td>\n",
              "      <td>-0.184507</td>\n",
              "      <td>...</td>\n",
              "      <td>0.0</td>\n",
              "      <td>0.0</td>\n",
              "      <td>0.0</td>\n",
              "      <td>0.0</td>\n",
              "      <td>0.0</td>\n",
              "      <td>0.0</td>\n",
              "      <td>0.0</td>\n",
              "      <td>0.0</td>\n",
              "      <td>0.0</td>\n",
              "      <td>0.0</td>\n",
              "    </tr>\n",
              "    <tr>\n",
              "      <th>3</th>\n",
              "      <td>20</td>\n",
              "      <td>1</td>\n",
              "      <td>0.0</td>\n",
              "      <td>0.014</td>\n",
              "      <td>0.98</td>\n",
              "      <td>1.0</td>\n",
              "      <td>-0.030381</td>\n",
              "      <td>-0.057344</td>\n",
              "      <td>-0.997892</td>\n",
              "      <td>-0.151510</td>\n",
              "      <td>...</td>\n",
              "      <td>1.0</td>\n",
              "      <td>1.0</td>\n",
              "      <td>1.0</td>\n",
              "      <td>0.0</td>\n",
              "      <td>0.0</td>\n",
              "      <td>1.0</td>\n",
              "      <td>1.0</td>\n",
              "      <td>0.0</td>\n",
              "      <td>0.0</td>\n",
              "      <td>0.0</td>\n",
              "    </tr>\n",
              "    <tr>\n",
              "      <th>4</th>\n",
              "      <td>14</td>\n",
              "      <td>1</td>\n",
              "      <td>0.0</td>\n",
              "      <td>0.233</td>\n",
              "      <td>0.93</td>\n",
              "      <td>1.0</td>\n",
              "      <td>0.143612</td>\n",
              "      <td>0.196879</td>\n",
              "      <td>-0.969853</td>\n",
              "      <td>-0.112321</td>\n",
              "      <td>...</td>\n",
              "      <td>0.0</td>\n",
              "      <td>0.0</td>\n",
              "      <td>0.0</td>\n",
              "      <td>0.0</td>\n",
              "      <td>1.0</td>\n",
              "      <td>0.0</td>\n",
              "      <td>1.0</td>\n",
              "      <td>1.0</td>\n",
              "      <td>0.0</td>\n",
              "      <td>0.0</td>\n",
              "    </tr>\n",
              "    <tr>\n",
              "      <th>...</th>\n",
              "      <td>...</td>\n",
              "      <td>...</td>\n",
              "      <td>...</td>\n",
              "      <td>...</td>\n",
              "      <td>...</td>\n",
              "      <td>...</td>\n",
              "      <td>...</td>\n",
              "      <td>...</td>\n",
              "      <td>...</td>\n",
              "      <td>...</td>\n",
              "      <td>...</td>\n",
              "      <td>...</td>\n",
              "      <td>...</td>\n",
              "      <td>...</td>\n",
              "      <td>...</td>\n",
              "      <td>...</td>\n",
              "      <td>...</td>\n",
              "      <td>...</td>\n",
              "      <td>...</td>\n",
              "      <td>...</td>\n",
              "      <td>...</td>\n",
              "    </tr>\n",
              "    <tr>\n",
              "      <th>526</th>\n",
              "      <td>25</td>\n",
              "      <td>14</td>\n",
              "      <td>0.0</td>\n",
              "      <td>0.233</td>\n",
              "      <td>0.98</td>\n",
              "      <td>1.0</td>\n",
              "      <td>0.017376</td>\n",
              "      <td>0.079002</td>\n",
              "      <td>-0.996723</td>\n",
              "      <td>0.054401</td>\n",
              "      <td>...</td>\n",
              "      <td>0.0</td>\n",
              "      <td>0.0</td>\n",
              "      <td>0.0</td>\n",
              "      <td>0.0</td>\n",
              "      <td>0.0</td>\n",
              "      <td>1.0</td>\n",
              "      <td>0.0</td>\n",
              "      <td>0.0</td>\n",
              "      <td>0.0</td>\n",
              "      <td>0.0</td>\n",
              "    </tr>\n",
              "    <tr>\n",
              "      <th>527</th>\n",
              "      <td>37</td>\n",
              "      <td>14</td>\n",
              "      <td>0.0</td>\n",
              "      <td>0.233</td>\n",
              "      <td>0.98</td>\n",
              "      <td>1.0</td>\n",
              "      <td>0.044193</td>\n",
              "      <td>0.059291</td>\n",
              "      <td>-0.997262</td>\n",
              "      <td>-0.150065</td>\n",
              "      <td>...</td>\n",
              "      <td>0.0</td>\n",
              "      <td>1.0</td>\n",
              "      <td>0.0</td>\n",
              "      <td>0.0</td>\n",
              "      <td>0.0</td>\n",
              "      <td>0.0</td>\n",
              "      <td>0.0</td>\n",
              "      <td>0.0</td>\n",
              "      <td>0.0</td>\n",
              "      <td>0.0</td>\n",
              "    </tr>\n",
              "    <tr>\n",
              "      <th>528</th>\n",
              "      <td>36</td>\n",
              "      <td>14</td>\n",
              "      <td>0.0</td>\n",
              "      <td>0.233</td>\n",
              "      <td>0.98</td>\n",
              "      <td>1.0</td>\n",
              "      <td>0.160417</td>\n",
              "      <td>0.041905</td>\n",
              "      <td>-0.986159</td>\n",
              "      <td>-0.076111</td>\n",
              "      <td>...</td>\n",
              "      <td>0.0</td>\n",
              "      <td>0.0</td>\n",
              "      <td>0.0</td>\n",
              "      <td>1.0</td>\n",
              "      <td>0.0</td>\n",
              "      <td>0.0</td>\n",
              "      <td>0.0</td>\n",
              "      <td>0.0</td>\n",
              "      <td>0.0</td>\n",
              "      <td>0.0</td>\n",
              "    </tr>\n",
              "    <tr>\n",
              "      <th>529</th>\n",
              "      <td>4</td>\n",
              "      <td>14</td>\n",
              "      <td>0.0</td>\n",
              "      <td>0.014</td>\n",
              "      <td>0.98</td>\n",
              "      <td>1.0</td>\n",
              "      <td>-0.067458</td>\n",
              "      <td>0.226827</td>\n",
              "      <td>-0.971596</td>\n",
              "      <td>-0.164781</td>\n",
              "      <td>...</td>\n",
              "      <td>0.0</td>\n",
              "      <td>1.0</td>\n",
              "      <td>0.0</td>\n",
              "      <td>0.0</td>\n",
              "      <td>0.0</td>\n",
              "      <td>0.0</td>\n",
              "      <td>0.0</td>\n",
              "      <td>0.0</td>\n",
              "      <td>0.0</td>\n",
              "      <td>0.0</td>\n",
              "    </tr>\n",
              "    <tr>\n",
              "      <th>530</th>\n",
              "      <td>8</td>\n",
              "      <td>14</td>\n",
              "      <td>0.0</td>\n",
              "      <td>0.233</td>\n",
              "      <td>0.88</td>\n",
              "      <td>1.0</td>\n",
              "      <td>-0.030974</td>\n",
              "      <td>-0.074448</td>\n",
              "      <td>-0.996744</td>\n",
              "      <td>0.002819</td>\n",
              "      <td>...</td>\n",
              "      <td>0.0</td>\n",
              "      <td>1.0</td>\n",
              "      <td>0.0</td>\n",
              "      <td>0.0</td>\n",
              "      <td>0.0</td>\n",
              "      <td>1.0</td>\n",
              "      <td>0.0</td>\n",
              "      <td>0.0</td>\n",
              "      <td>0.0</td>\n",
              "      <td>0.0</td>\n",
              "    </tr>\n",
              "  </tbody>\n",
              "</table>\n",
              "<p>531 rows × 14975 columns</p>\n",
              "</div>\n",
              "      <button class=\"colab-df-convert\" onclick=\"convertToInteractive('df-0dc1177c-be76-4e11-a777-dcced9b2f710')\"\n",
              "              title=\"Convert this dataframe to an interactive table.\"\n",
              "              style=\"display:none;\">\n",
              "        \n",
              "  <svg xmlns=\"http://www.w3.org/2000/svg\" height=\"24px\"viewBox=\"0 0 24 24\"\n",
              "       width=\"24px\">\n",
              "    <path d=\"M0 0h24v24H0V0z\" fill=\"none\"/>\n",
              "    <path d=\"M18.56 5.44l.94 2.06.94-2.06 2.06-.94-2.06-.94-.94-2.06-.94 2.06-2.06.94zm-11 1L8.5 8.5l.94-2.06 2.06-.94-2.06-.94L8.5 2.5l-.94 2.06-2.06.94zm10 10l.94 2.06.94-2.06 2.06-.94-2.06-.94-.94-2.06-.94 2.06-2.06.94z\"/><path d=\"M17.41 7.96l-1.37-1.37c-.4-.4-.92-.59-1.43-.59-.52 0-1.04.2-1.43.59L10.3 9.45l-7.72 7.72c-.78.78-.78 2.05 0 2.83L4 21.41c.39.39.9.59 1.41.59.51 0 1.02-.2 1.41-.59l7.78-7.78 2.81-2.81c.8-.78.8-2.07 0-2.86zM5.41 20L4 18.59l7.72-7.72 1.47 1.35L5.41 20z\"/>\n",
              "  </svg>\n",
              "      </button>\n",
              "      \n",
              "  <style>\n",
              "    .colab-df-container {\n",
              "      display:flex;\n",
              "      flex-wrap:wrap;\n",
              "      gap: 12px;\n",
              "    }\n",
              "\n",
              "    .colab-df-convert {\n",
              "      background-color: #E8F0FE;\n",
              "      border: none;\n",
              "      border-radius: 50%;\n",
              "      cursor: pointer;\n",
              "      display: none;\n",
              "      fill: #1967D2;\n",
              "      height: 32px;\n",
              "      padding: 0 0 0 0;\n",
              "      width: 32px;\n",
              "    }\n",
              "\n",
              "    .colab-df-convert:hover {\n",
              "      background-color: #E2EBFA;\n",
              "      box-shadow: 0px 1px 2px rgba(60, 64, 67, 0.3), 0px 1px 3px 1px rgba(60, 64, 67, 0.15);\n",
              "      fill: #174EA6;\n",
              "    }\n",
              "\n",
              "    [theme=dark] .colab-df-convert {\n",
              "      background-color: #3B4455;\n",
              "      fill: #D2E3FC;\n",
              "    }\n",
              "\n",
              "    [theme=dark] .colab-df-convert:hover {\n",
              "      background-color: #434B5C;\n",
              "      box-shadow: 0px 1px 3px 1px rgba(0, 0, 0, 0.15);\n",
              "      filter: drop-shadow(0px 1px 2px rgba(0, 0, 0, 0.3));\n",
              "      fill: #FFFFFF;\n",
              "    }\n",
              "  </style>\n",
              "\n",
              "      <script>\n",
              "        const buttonEl =\n",
              "          document.querySelector('#df-0dc1177c-be76-4e11-a777-dcced9b2f710 button.colab-df-convert');\n",
              "        buttonEl.style.display =\n",
              "          google.colab.kernel.accessAllowed ? 'block' : 'none';\n",
              "\n",
              "        async function convertToInteractive(key) {\n",
              "          const element = document.querySelector('#df-0dc1177c-be76-4e11-a777-dcced9b2f710');\n",
              "          const dataTable =\n",
              "            await google.colab.kernel.invokeFunction('convertToInteractive',\n",
              "                                                     [key], {});\n",
              "          if (!dataTable) return;\n",
              "\n",
              "          const docLinkHtml = 'Like what you see? Visit the ' +\n",
              "            '<a target=\"_blank\" href=https://colab.research.google.com/notebooks/data_table.ipynb>data table notebook</a>'\n",
              "            + ' to learn more about interactive tables.';\n",
              "          element.innerHTML = '';\n",
              "          dataTable['output_type'] = 'display_data';\n",
              "          await google.colab.output.renderOutput(dataTable, element);\n",
              "          const docLink = document.createElement('div');\n",
              "          docLink.innerHTML = docLinkHtml;\n",
              "          element.appendChild(docLink);\n",
              "        }\n",
              "      </script>\n",
              "    </div>\n",
              "  </div>\n",
              "  "
            ]
          },
          "metadata": {},
          "execution_count": 12
        }
      ],
      "source": [
        "features_df"
      ]
    },
    {
      "cell_type": "code",
      "execution_count": null,
      "metadata": {
        "colab": {
          "base_uri": "https://localhost:8080/",
          "height": 36
        },
        "id": "Bm_nzN9fJrG2",
        "outputId": "c92e4b12-f2b8-4d76-9eca-a6a8a939bff5"
      },
      "outputs": [
        {
          "data": {
            "application/vnd.google.colaboratory.intrinsic+json": {
              "type": "string"
            },
            "text/plain": [
              "'/content/drive/.shortcut-targets-by-id/15ceJOnSS-5QWTAsLa7Sbz34imGgk0Rr5/Neuro-Marketing/processed_videos'"
            ]
          },
          "execution_count": 58,
          "metadata": {},
          "output_type": "execute_result"
        }
      ],
      "source": [
        "os.getcwd()"
      ]
    },
    {
      "cell_type": "markdown",
      "metadata": {
        "id": "cHJUwCwYKbtl"
      },
      "source": [
        "### Model Training"
      ]
    },
    {
      "cell_type": "code",
      "execution_count": null,
      "metadata": {
        "id": "vJF7qHYBEC7r",
        "colab": {
          "base_uri": "https://localhost:8080/",
          "height": 130
        },
        "outputId": "acae8d19-77c5-49cb-f43f-324a58502b2e"
      },
      "outputs": [
        {
          "output_type": "error",
          "ename": "SyntaxError",
          "evalue": "ignored",
          "traceback": [
            "\u001b[0;36m  File \u001b[0;32m\"<ipython-input-18-d0a62cf012d1>\"\u001b[0;36m, line \u001b[0;32m13\u001b[0m\n\u001b[0;31m    train_x,test_x,train_y,test_y = train_test_split(merged_df_x,merged_df_info,train_size=0.8, stratify=,shuffle=True)\u001b[0m\n\u001b[0m                                                                                                         ^\u001b[0m\n\u001b[0;31mSyntaxError\u001b[0m\u001b[0;31m:\u001b[0m invalid syntax\n"
          ]
        }
      ],
      "source": [
        "import pandas as pd\n",
        "\n",
        "feature_x = pd.read_pickle('/content/drive/MyDrive/Neuro-Marketing/features.pkl')\n",
        "label = pd.read_csv('/content/drive/MyDrive/Neuro-Marketing/labels.csv')\n",
        "\n",
        "feature_x.rename(columns={0: \"user_id\", 1: \"vid_num\"},inplace=True)\n",
        "\n",
        "merged_df=pd.merge(feature_x,label,on=[\"user_id\",\"vid_num\"])\n",
        "\n",
        "merged_df_x= merged_df.drop(['user_id','vid_num','sam_valence','sam_arousal','seen','valence','arousal','share1','share2','bin_sam_valence','bin_sam_arousal','bin_seen','bin_valence','bin_arousal','bin_share1','bin_share2'],axis=1)\n",
        "merged_df_info=merged_df[['user_id','vid_num','sam_valence','sam_arousal','seen','valence','arousal','share1','share2','bin_sam_valence','bin_sam_arousal','bin_seen','bin_valence','bin_arousal','bin_share1','bin_share2']]\n",
        "\n",
        "train_x,test_x,train_y,test_y = train_test_split(merged_df_x,merged_df_info,train_size=0.8, stratify=,shuffle=True)\n",
        "train_x,val_x,train_y,val_y = train_test_split(train_x,train_y,train_size=0.875,shuffle=True)\n",
        "train_x.shape,val_x.shape,test_x.shape,train_y.shape,val_y.shape,test_y.shape"
      ]
    },
    {
      "cell_type": "code",
      "source": [
        "from sklearn.feature_selection import SelectKBest, chi2\n",
        "kbest=SelectKBest(k=100)\n",
        "train_x = kbest.fit_transform(train_x, train_y[\"sam_arousal\"])\n",
        "train_x.shape"
      ],
      "metadata": {
        "colab": {
          "base_uri": "https://localhost:8080/",
          "height": 363
        },
        "id": "9-BuSXlcHo-u",
        "outputId": "22f58172-1e43-496f-b0ef-beef003684b3"
      },
      "execution_count": null,
      "outputs": [
        {
          "output_type": "error",
          "ename": "ValueError",
          "evalue": "ignored",
          "traceback": [
            "\u001b[0;31m---------------------------------------------------------------------------\u001b[0m",
            "\u001b[0;31mValueError\u001b[0m                                Traceback (most recent call last)",
            "\u001b[0;32m<ipython-input-103-24b9104a3d2e>\u001b[0m in \u001b[0;36m<module>\u001b[0;34m()\u001b[0m\n\u001b[1;32m      1\u001b[0m \u001b[0;32mfrom\u001b[0m \u001b[0msklearn\u001b[0m\u001b[0;34m.\u001b[0m\u001b[0mfeature_selection\u001b[0m \u001b[0;32mimport\u001b[0m \u001b[0mSelectKBest\u001b[0m\u001b[0;34m,\u001b[0m \u001b[0mchi2\u001b[0m\u001b[0;34m\u001b[0m\u001b[0;34m\u001b[0m\u001b[0m\n\u001b[1;32m      2\u001b[0m \u001b[0mkbest\u001b[0m\u001b[0;34m=\u001b[0m\u001b[0mSelectKBest\u001b[0m\u001b[0;34m(\u001b[0m\u001b[0mk\u001b[0m\u001b[0;34m=\u001b[0m\u001b[0;36m100\u001b[0m\u001b[0;34m)\u001b[0m\u001b[0;34m\u001b[0m\u001b[0;34m\u001b[0m\u001b[0m\n\u001b[0;32m----> 3\u001b[0;31m \u001b[0mtrain_x\u001b[0m \u001b[0;34m=\u001b[0m \u001b[0mkbest\u001b[0m\u001b[0;34m.\u001b[0m\u001b[0mfit_transform\u001b[0m\u001b[0;34m(\u001b[0m\u001b[0mtrain_x\u001b[0m\u001b[0;34m,\u001b[0m \u001b[0mtrain_y\u001b[0m\u001b[0;34m)\u001b[0m\u001b[0;34m\u001b[0m\u001b[0;34m\u001b[0m\u001b[0m\n\u001b[0m\u001b[1;32m      4\u001b[0m \u001b[0mtrain_x\u001b[0m\u001b[0;34m.\u001b[0m\u001b[0mshape\u001b[0m\u001b[0;34m\u001b[0m\u001b[0;34m\u001b[0m\u001b[0m\n",
            "\u001b[0;32m/usr/local/lib/python3.7/dist-packages/sklearn/base.py\u001b[0m in \u001b[0;36mfit_transform\u001b[0;34m(self, X, y, **fit_params)\u001b[0m\n\u001b[1;32m    853\u001b[0m         \u001b[0;32melse\u001b[0m\u001b[0;34m:\u001b[0m\u001b[0;34m\u001b[0m\u001b[0;34m\u001b[0m\u001b[0m\n\u001b[1;32m    854\u001b[0m             \u001b[0;31m# fit method of arity 2 (supervised transformation)\u001b[0m\u001b[0;34m\u001b[0m\u001b[0;34m\u001b[0m\u001b[0;34m\u001b[0m\u001b[0m\n\u001b[0;32m--> 855\u001b[0;31m             \u001b[0;32mreturn\u001b[0m \u001b[0mself\u001b[0m\u001b[0;34m.\u001b[0m\u001b[0mfit\u001b[0m\u001b[0;34m(\u001b[0m\u001b[0mX\u001b[0m\u001b[0;34m,\u001b[0m \u001b[0my\u001b[0m\u001b[0;34m,\u001b[0m \u001b[0;34m**\u001b[0m\u001b[0mfit_params\u001b[0m\u001b[0;34m)\u001b[0m\u001b[0;34m.\u001b[0m\u001b[0mtransform\u001b[0m\u001b[0;34m(\u001b[0m\u001b[0mX\u001b[0m\u001b[0;34m)\u001b[0m\u001b[0;34m\u001b[0m\u001b[0;34m\u001b[0m\u001b[0m\n\u001b[0m\u001b[1;32m    856\u001b[0m \u001b[0;34m\u001b[0m\u001b[0m\n\u001b[1;32m    857\u001b[0m \u001b[0;34m\u001b[0m\u001b[0m\n",
            "\u001b[0;32m/usr/local/lib/python3.7/dist-packages/sklearn/feature_selection/_univariate_selection.py\u001b[0m in \u001b[0;36mfit\u001b[0;34m(self, X, y)\u001b[0m\n\u001b[1;32m    406\u001b[0m \u001b[0;34m\u001b[0m\u001b[0m\n\u001b[1;32m    407\u001b[0m         \u001b[0mself\u001b[0m\u001b[0;34m.\u001b[0m\u001b[0m_check_params\u001b[0m\u001b[0;34m(\u001b[0m\u001b[0mX\u001b[0m\u001b[0;34m,\u001b[0m \u001b[0my\u001b[0m\u001b[0;34m)\u001b[0m\u001b[0;34m\u001b[0m\u001b[0;34m\u001b[0m\u001b[0m\n\u001b[0;32m--> 408\u001b[0;31m         \u001b[0mscore_func_ret\u001b[0m \u001b[0;34m=\u001b[0m \u001b[0mself\u001b[0m\u001b[0;34m.\u001b[0m\u001b[0mscore_func\u001b[0m\u001b[0;34m(\u001b[0m\u001b[0mX\u001b[0m\u001b[0;34m,\u001b[0m \u001b[0my\u001b[0m\u001b[0;34m)\u001b[0m\u001b[0;34m\u001b[0m\u001b[0;34m\u001b[0m\u001b[0m\n\u001b[0m\u001b[1;32m    409\u001b[0m         \u001b[0;32mif\u001b[0m \u001b[0misinstance\u001b[0m\u001b[0;34m(\u001b[0m\u001b[0mscore_func_ret\u001b[0m\u001b[0;34m,\u001b[0m \u001b[0;34m(\u001b[0m\u001b[0mlist\u001b[0m\u001b[0;34m,\u001b[0m \u001b[0mtuple\u001b[0m\u001b[0;34m)\u001b[0m\u001b[0;34m)\u001b[0m\u001b[0;34m:\u001b[0m\u001b[0;34m\u001b[0m\u001b[0;34m\u001b[0m\u001b[0m\n\u001b[1;32m    410\u001b[0m             \u001b[0mself\u001b[0m\u001b[0;34m.\u001b[0m\u001b[0mscores_\u001b[0m\u001b[0;34m,\u001b[0m \u001b[0mself\u001b[0m\u001b[0;34m.\u001b[0m\u001b[0mpvalues_\u001b[0m \u001b[0;34m=\u001b[0m \u001b[0mscore_func_ret\u001b[0m\u001b[0;34m\u001b[0m\u001b[0;34m\u001b[0m\u001b[0m\n",
            "\u001b[0;32m/usr/local/lib/python3.7/dist-packages/sklearn/feature_selection/_univariate_selection.py\u001b[0m in \u001b[0;36mf_classif\u001b[0;34m(X, y)\u001b[0m\n\u001b[1;32m    144\u001b[0m     \u001b[0mf_regression\u001b[0m \u001b[0;34m:\u001b[0m \u001b[0mF\u001b[0m\u001b[0;34m-\u001b[0m\u001b[0mvalue\u001b[0m \u001b[0mbetween\u001b[0m \u001b[0mlabel\u001b[0m\u001b[0;34m/\u001b[0m\u001b[0mfeature\u001b[0m \u001b[0;32mfor\u001b[0m \u001b[0mregression\u001b[0m \u001b[0mtasks\u001b[0m\u001b[0;34m.\u001b[0m\u001b[0;34m\u001b[0m\u001b[0;34m\u001b[0m\u001b[0m\n\u001b[1;32m    145\u001b[0m     \"\"\"\n\u001b[0;32m--> 146\u001b[0;31m     \u001b[0mX\u001b[0m\u001b[0;34m,\u001b[0m \u001b[0my\u001b[0m \u001b[0;34m=\u001b[0m \u001b[0mcheck_X_y\u001b[0m\u001b[0;34m(\u001b[0m\u001b[0mX\u001b[0m\u001b[0;34m,\u001b[0m \u001b[0my\u001b[0m\u001b[0;34m,\u001b[0m \u001b[0maccept_sparse\u001b[0m\u001b[0;34m=\u001b[0m\u001b[0;34m[\u001b[0m\u001b[0;34m\"csr\"\u001b[0m\u001b[0;34m,\u001b[0m \u001b[0;34m\"csc\"\u001b[0m\u001b[0;34m,\u001b[0m \u001b[0;34m\"coo\"\u001b[0m\u001b[0;34m]\u001b[0m\u001b[0;34m)\u001b[0m\u001b[0;34m\u001b[0m\u001b[0;34m\u001b[0m\u001b[0m\n\u001b[0m\u001b[1;32m    147\u001b[0m     \u001b[0margs\u001b[0m \u001b[0;34m=\u001b[0m \u001b[0;34m[\u001b[0m\u001b[0mX\u001b[0m\u001b[0;34m[\u001b[0m\u001b[0msafe_mask\u001b[0m\u001b[0;34m(\u001b[0m\u001b[0mX\u001b[0m\u001b[0;34m,\u001b[0m \u001b[0my\u001b[0m \u001b[0;34m==\u001b[0m \u001b[0mk\u001b[0m\u001b[0;34m)\u001b[0m\u001b[0;34m]\u001b[0m \u001b[0;32mfor\u001b[0m \u001b[0mk\u001b[0m \u001b[0;32min\u001b[0m \u001b[0mnp\u001b[0m\u001b[0;34m.\u001b[0m\u001b[0munique\u001b[0m\u001b[0;34m(\u001b[0m\u001b[0my\u001b[0m\u001b[0;34m)\u001b[0m\u001b[0;34m]\u001b[0m\u001b[0;34m\u001b[0m\u001b[0;34m\u001b[0m\u001b[0m\n\u001b[1;32m    148\u001b[0m     \u001b[0;32mreturn\u001b[0m \u001b[0mf_oneway\u001b[0m\u001b[0;34m(\u001b[0m\u001b[0;34m*\u001b[0m\u001b[0margs\u001b[0m\u001b[0;34m)\u001b[0m\u001b[0;34m\u001b[0m\u001b[0;34m\u001b[0m\u001b[0m\n",
            "\u001b[0;32m/usr/local/lib/python3.7/dist-packages/sklearn/utils/validation.py\u001b[0m in \u001b[0;36mcheck_X_y\u001b[0;34m(X, y, accept_sparse, accept_large_sparse, dtype, order, copy, force_all_finite, ensure_2d, allow_nd, multi_output, ensure_min_samples, ensure_min_features, y_numeric, estimator)\u001b[0m\n\u001b[1;32m    977\u001b[0m     )\n\u001b[1;32m    978\u001b[0m \u001b[0;34m\u001b[0m\u001b[0m\n\u001b[0;32m--> 979\u001b[0;31m     \u001b[0my\u001b[0m \u001b[0;34m=\u001b[0m \u001b[0m_check_y\u001b[0m\u001b[0;34m(\u001b[0m\u001b[0my\u001b[0m\u001b[0;34m,\u001b[0m \u001b[0mmulti_output\u001b[0m\u001b[0;34m=\u001b[0m\u001b[0mmulti_output\u001b[0m\u001b[0;34m,\u001b[0m \u001b[0my_numeric\u001b[0m\u001b[0;34m=\u001b[0m\u001b[0my_numeric\u001b[0m\u001b[0;34m)\u001b[0m\u001b[0;34m\u001b[0m\u001b[0;34m\u001b[0m\u001b[0m\n\u001b[0m\u001b[1;32m    980\u001b[0m \u001b[0;34m\u001b[0m\u001b[0m\n\u001b[1;32m    981\u001b[0m     \u001b[0mcheck_consistent_length\u001b[0m\u001b[0;34m(\u001b[0m\u001b[0mX\u001b[0m\u001b[0;34m,\u001b[0m \u001b[0my\u001b[0m\u001b[0;34m)\u001b[0m\u001b[0;34m\u001b[0m\u001b[0;34m\u001b[0m\u001b[0m\n",
            "\u001b[0;32m/usr/local/lib/python3.7/dist-packages/sklearn/utils/validation.py\u001b[0m in \u001b[0;36m_check_y\u001b[0;34m(y, multi_output, y_numeric)\u001b[0m\n\u001b[1;32m    991\u001b[0m         )\n\u001b[1;32m    992\u001b[0m     \u001b[0;32melse\u001b[0m\u001b[0;34m:\u001b[0m\u001b[0;34m\u001b[0m\u001b[0;34m\u001b[0m\u001b[0m\n\u001b[0;32m--> 993\u001b[0;31m         \u001b[0my\u001b[0m \u001b[0;34m=\u001b[0m \u001b[0mcolumn_or_1d\u001b[0m\u001b[0;34m(\u001b[0m\u001b[0my\u001b[0m\u001b[0;34m,\u001b[0m \u001b[0mwarn\u001b[0m\u001b[0;34m=\u001b[0m\u001b[0;32mTrue\u001b[0m\u001b[0;34m)\u001b[0m\u001b[0;34m\u001b[0m\u001b[0;34m\u001b[0m\u001b[0m\n\u001b[0m\u001b[1;32m    994\u001b[0m         \u001b[0m_assert_all_finite\u001b[0m\u001b[0;34m(\u001b[0m\u001b[0my\u001b[0m\u001b[0;34m)\u001b[0m\u001b[0;34m\u001b[0m\u001b[0;34m\u001b[0m\u001b[0m\n\u001b[1;32m    995\u001b[0m         \u001b[0m_ensure_no_complex_data\u001b[0m\u001b[0;34m(\u001b[0m\u001b[0my\u001b[0m\u001b[0;34m)\u001b[0m\u001b[0;34m\u001b[0m\u001b[0;34m\u001b[0m\u001b[0m\n",
            "\u001b[0;32m/usr/local/lib/python3.7/dist-packages/sklearn/utils/validation.py\u001b[0m in \u001b[0;36mcolumn_or_1d\u001b[0;34m(y, warn)\u001b[0m\n\u001b[1;32m   1037\u001b[0m \u001b[0;34m\u001b[0m\u001b[0m\n\u001b[1;32m   1038\u001b[0m     raise ValueError(\n\u001b[0;32m-> 1039\u001b[0;31m         \u001b[0;34m\"y should be a 1d array, got an array of shape {} instead.\"\u001b[0m\u001b[0;34m.\u001b[0m\u001b[0mformat\u001b[0m\u001b[0;34m(\u001b[0m\u001b[0mshape\u001b[0m\u001b[0;34m)\u001b[0m\u001b[0;34m\u001b[0m\u001b[0;34m\u001b[0m\u001b[0m\n\u001b[0m\u001b[1;32m   1040\u001b[0m     )\n\u001b[1;32m   1041\u001b[0m \u001b[0;34m\u001b[0m\u001b[0m\n",
            "\u001b[0;31mValueError\u001b[0m: y should be a 1d array, got an array of shape (240, 16) instead."
          ]
        }
      ]
    },
    {
      "cell_type": "code",
      "source": [
        "val_x = kbest.transform(val_x)"
      ],
      "metadata": {
        "id": "558CEYP8Sbto"
      },
      "execution_count": null,
      "outputs": []
    },
    {
      "cell_type": "code",
      "source": [
        "val_x.shape"
      ],
      "metadata": {
        "colab": {
          "base_uri": "https://localhost:8080/"
        },
        "id": "z61Tg_8QS2ei",
        "outputId": "b2364aca-af96-4b15-a244-2b7b19d989e5"
      },
      "execution_count": null,
      "outputs": [
        {
          "output_type": "execute_result",
          "data": {
            "text/plain": [
              "(35, 100)"
            ]
          },
          "metadata": {},
          "execution_count": 53
        }
      ]
    },
    {
      "cell_type": "code",
      "source": [
        "label = pd.read_csv('/content/drive/MyDrive/Neuro-Marketing/labels.csv')\n",
        "label.shape"
      ],
      "metadata": {
        "colab": {
          "base_uri": "https://localhost:8080/"
        },
        "id": "HrAAzOcLbUh2",
        "outputId": "86a733bf-ff9c-4c44-db62-13e49ec5a215"
      },
      "execution_count": null,
      "outputs": [
        {
          "output_type": "execute_result",
          "data": {
            "text/plain": [
              "(574, 16)"
            ]
          },
          "metadata": {},
          "execution_count": 4
        }
      ]
    },
    {
      "cell_type": "markdown",
      "metadata": {
        "id": "5z-6YSYcLPJa"
      },
      "source": [
        "#### Machine Learning"
      ]
    },
    {
      "cell_type": "code",
      "source": [
        "import pandas as pd\n",
        "\n",
        "feature_x = pd.read_pickle('/content/drive/MyDrive/Neuro-Marketing/median_features.pkl')\n",
        "label = pd.read_csv('/content/drive/MyDrive/Neuro-Marketing/labels.csv')\n",
        "\n",
        "feature_x.rename(columns={0: \"user_id\", 1: \"vid_num\"},inplace=True)\n",
        "\n",
        "merged_df=pd.merge(feature_x,label,on=[\"user_id\",\"vid_num\"])\n",
        "\n",
        "merged_df_x= merged_df.drop(['user_id','vid_num','sam_valence','sam_arousal','seen','valence','arousal','share1','share2','bin_sam_valence','bin_sam_arousal','bin_seen','bin_valence','bin_arousal','bin_share1','bin_share2'],axis=1)\n",
        "merged_df_info=merged_df[['user_id','vid_num','sam_valence','sam_arousal','seen','valence','arousal','share1','share2','bin_sam_valence','bin_sam_arousal','bin_seen','bin_valence','bin_arousal','bin_share1','bin_share2']]\n",
        "\n",
        "for target in ['bin_sam_arousal', 'bin_sam_valence', 'bin_arousal', 'bin_valence', 'bin_seen', 'bin_share1', 'bin_share2']:\n",
        "    print()\n",
        "    print()\n",
        "    print(target)\n",
        "    train_x,test_x,train_y,test_y = train_test_split(merged_df_x,merged_df_info,train_size=0.8, stratify=merged_df_info[target],random_state=42)\n",
        "    # print(train_x.shape,test_x.shape,train_y.shape,test_y.shape)\n",
        "\n",
        "    #Scaling\n",
        "    scaling = False\n",
        "    if scaling:\n",
        "        scaler = StandardScaler()\n",
        "        train_x_scaled = scaler.fit_transform(train_x)\n",
        "        test_x_scaled = scaler.transform(test_x)\n",
        "\n",
        "    #PCA\n",
        "    pca = PCA(n_components=400)\n",
        "    if scaling:\n",
        "        train_x_scaled_pca = pca.fit_transform(train_x_scaled)\n",
        "        test_x_scaled_pca = pca.transform(test_x_scaled)\n",
        "    else:\n",
        "        train_x_scaled_pca = pca.fit_transform(train_x)\n",
        "        test_x_scaled_pca = pca.transform(test_x)\n",
        "\n",
        "    # clf = AdaBoostClassifier(n_estimators=100, random_state=0)\n",
        "    clf = RandomForestClassifier(random_state=42, class_weight = 'balanced_subsample')\n",
        "    # clf = DecisionTreeClassifier(random_state=0, class_weight = 'balanced')\n",
        "    # clf = SVC(random_state=0, class_weight = 'balanced')\n",
        "    # clf = BalancedBaggingClassifier(random_state = 42)\n",
        "    clf.fit(train_x_scaled_pca, train_y[target])\n",
        "    test_y_pred=clf.predict(test_x_scaled_pca)\n",
        "    print(\"Accuracy\",accuracy_score(test_y_pred,test_y[target]))\n",
        "    print(\"Precision\",precision_score(test_y_pred,test_y[target],average='macro'))\n",
        "    print(\"Recall\",recall_score(test_y_pred,test_y[target],average='macro'))\n",
        "    print(\"F1\",f1_score(test_y_pred,test_y[target],average='macro'))\n",
        "    # print(\"Confusion Matrix\",confusion_matrix(test_y_pred,test_y[target]))\n",
        "    cm = confusion_matrix(test_y_pred,test_y[target])\n",
        "    disp = ConfusionMatrixDisplay(cm)\n",
        "    disp.plot()\n",
        "    plt.show()"
      ],
      "metadata": {
        "colab": {
          "base_uri": "https://localhost:8080/",
          "height": 1000
        },
        "id": "tIygBNpgtMkb",
        "outputId": "6212b05e-dc11-4f8f-f78f-f91af05092ed"
      },
      "execution_count": null,
      "outputs": [
        {
          "output_type": "stream",
          "name": "stdout",
          "text": [
            "\n",
            "\n",
            "bin_sam_arousal\n",
            "Accuracy 0.6074766355140186\n",
            "Precision 0.4656124497991968\n",
            "Recall 0.4690325497287523\n",
            "F1 0.4665242165242165\n"
          ]
        },
        {
          "output_type": "display_data",
          "data": {
            "text/plain": [
              "<Figure size 432x288 with 2 Axes>"
            ],
            "image/png": "[encoded data removed]"
          },
          "metadata": {
            "needs_background": "light"
          }
        },
        {
          "output_type": "stream",
          "name": "stdout",
          "text": [
            "\n",
            "\n",
            "bin_sam_valence\n",
            "Accuracy 0.5700934579439252\n",
            "Precision 0.5603991596638656\n",
            "Recall 0.5732173174872666\n",
            "F1 0.5452697708795271\n"
          ]
        },
        {
          "output_type": "display_data",
          "data": {
            "text/plain": [
              "<Figure size 432x288 with 2 Axes>"
            ],
            "image/png": "[encoded data removed]"
          },
          "metadata": {
            "needs_background": "light"
          }
        },
        {
          "output_type": "stream",
          "name": "stdout",
          "text": [
            "\n",
            "\n",
            "bin_arousal\n",
            "Accuracy 0.5420560747663551\n",
            "Precision 0.5288600288600288\n",
            "Recall 0.5286738351254481\n",
            "F1 0.5287191011235954\n"
          ]
        },
        {
          "output_type": "display_data",
          "data": {
            "text/plain": [
              "<Figure size 432x288 with 2 Axes>"
            ],
            "image/png": "[encoded data removed]"
          },
          "metadata": {
            "needs_background": "light"
          }
        },
        {
          "output_type": "stream",
          "name": "stdout",
          "text": [
            "\n",
            "\n",
            "bin_valence\n",
            "Accuracy 0.6542056074766355\n",
            "Precision 0.637888418079096\n",
            "Recall 0.6549603174603175\n",
            "F1 0.6358870596891382\n"
          ]
        },
        {
          "output_type": "display_data",
          "data": {
            "text/plain": [
              "<Figure size 432x288 with 2 Axes>"
            ],
            "image/png": "[encoded data removed]"
          },
          "metadata": {
            "needs_background": "light"
          }
        },
        {
          "output_type": "stream",
          "name": "stdout",
          "text": [
            "\n",
            "\n",
            "bin_seen\n",
            "Accuracy 0.8878504672897196\n",
            "Precision 0.5486798679867987\n",
            "Recall 0.5372474747474747\n",
            "F1 0.5414285714285715\n"
          ]
        },
        {
          "output_type": "display_data",
          "data": {
            "text/plain": [
              "<Figure size 432x288 with 2 Axes>"
            ],
            "image/png": "[encoded data removed]"
          },
          "metadata": {
            "needs_background": "light"
          }
        },
        {
          "output_type": "stream",
          "name": "stdout",
          "text": [
            "\n",
            "\n",
            "bin_share1\n",
            "Accuracy 0.616822429906542\n",
            "Precision 0.5097259062776305\n",
            "Recall 0.5099457504520796\n",
            "F1 0.5097776287853392\n"
          ]
        },
        {
          "output_type": "display_data",
          "data": {
            "text/plain": [
              "<Figure size 432x288 with 2 Axes>"
            ],
            "image/png": "[encoded data removed]"
          },
          "metadata": {
            "needs_background": "light"
          }
        },
        {
          "output_type": "stream",
          "name": "stdout",
          "text": [
            "\n",
            "\n",
            "bin_share2\n",
            "Accuracy 0.7009345794392523\n",
            "Precision 0.4890788224121557\n",
            "Recall 0.4762886597938144\n",
            "F1 0.4656679151061174\n"
          ]
        },
        {
          "output_type": "display_data",
          "data": {
            "text/plain": [
              "<Figure size 432x288 with 2 Axes>"
            ],
            "image/png": "[encoded data removed]"
          },
          "metadata": {
            "needs_background": "light"
          }
        }
      ]
    },
    {
      "cell_type": "code",
      "source": [
        "import pandas as pd\n",
        "\n",
        "feature_x = pd.read_pickle('/content/drive/MyDrive/Neuro-Marketing/median_features.pkl')\n",
        "label = pd.read_csv('/content/drive/MyDrive/Neuro-Marketing/labels.csv')\n",
        "\n",
        "feature_x.rename(columns={0: \"user_id\", 1: \"vid_num\"},inplace=True)\n",
        "\n",
        "merged_df=pd.merge(feature_x,label,on=[\"user_id\",\"vid_num\"])\n",
        "\n",
        "merged_df_x= merged_df.drop(['user_id','vid_num','sam_valence','sam_arousal','seen','valence','arousal','share1','share2','bin_sam_valence','bin_sam_arousal','bin_seen','bin_valence','bin_arousal','bin_share1','bin_share2'],axis=1)\n",
        "merged_df_info=merged_df[['user_id','vid_num','sam_valence','sam_arousal','seen','valence','arousal','share1','share2','bin_sam_valence','bin_sam_arousal','bin_seen','bin_valence','bin_arousal','bin_share1','bin_share2']]\n",
        "models = {'Random Forest': RandomForestClassifier(random_state=42, class_weight = 'balanced_subsample'),\n",
        "          'Adaboost': AdaBoostClassifier(n_estimators=100, random_state=0),\n",
        "          'Decision Tree': DecisionTreeClassifier(random_state=0, class_weight = 'balanced'),\n",
        "          'Support Vector Machine':SVC(random_state=0, class_weight = 'balanced'),\n",
        "          'XGBoost': XGBClassifier()}\n",
        "for model_name in ['Random Forest', 'Adaboost', 'Decision Tree', 'Support Vector Machine', 'XGBoost']:\n",
        "    print(model_name)\n",
        "    for target in ['bin_sam_arousal', 'bin_sam_valence', 'bin_arousal', 'bin_valence', 'bin_seen', 'bin_share1', 'bin_share2']:\n",
        "        # print()\n",
        "        # print()\n",
        "        # print(target)\n",
        "        train_x,test_x,train_y,test_y = train_test_split(merged_df_x,merged_df_info,train_size=0.8, stratify=merged_df_info[target],random_state=42)\n",
        "        # print(train_x.shape,test_x.shape,train_y.shape,test_y.shape)\n",
        "\n",
        "        #Scaling\n",
        "        scaling = False\n",
        "        if scaling:\n",
        "            scaler = StandardScaler()\n",
        "            train_x_scaled = scaler.fit_transform(train_x)\n",
        "            test_x_scaled = scaler.transform(test_x)\n",
        "\n",
        "        #PCA\n",
        "        pca = PCA(n_components=400)\n",
        "        if scaling:\n",
        "            train_x_scaled_pca = pca.fit_transform(train_x_scaled)\n",
        "            test_x_scaled_pca = pca.transform(test_x_scaled)\n",
        "        else:\n",
        "            train_x_scaled_pca = pca.fit_transform(train_x)\n",
        "            test_x_scaled_pca = pca.transform(test_x)\n",
        "\n",
        "        clf = models[model_name]\n",
        "        clf.fit(train_x_scaled_pca, train_y[target])\n",
        "        test_y_pred=clf.predict(test_x_scaled_pca)\n",
        "\n",
        "        accuracy = accuracy_score(test_y_pred,test_y[target])\n",
        "        precision = precision_score(test_y_pred,test_y[target],average='macro')\n",
        "        recall = recall_score(test_y_pred,test_y[target],average='macro')\n",
        "        f1 = f1_score(test_y_pred,test_y[target],average='macro')\n",
        "        # print(target + ':\\t\\t' + str(accuracy) + '\\t' + str(precision) + '\\t' + str(recall) + '\\t' + str(f1))\n",
        "        print(\"{:15s}: {:0.2f} {:0.2f} {:0.2f} {:0.2f}\".format(target, accuracy, precision, recall, f1))\n",
        "    print()"
      ],
      "metadata": {
        "colab": {
          "base_uri": "https://localhost:8080/"
        },
        "id": "ll6DBdhegzTs",
        "outputId": "176ac565-9f4b-46af-809e-5bf604278820"
      },
      "execution_count": null,
      "outputs": [
        {
          "output_type": "stream",
          "name": "stdout",
          "text": [
            "Random Forest\n",
            "bin_sam_arousal: 0.78 0.50 0.39 0.44\n",
            "bin_sam_valence: 0.45 0.44 0.43 0.42\n",
            "bin_arousal    : 0.57 0.50 0.50 0.44\n",
            "bin_valence    : 0.60 0.56 0.64 0.51\n",
            "bin_seen       : 0.94 0.50 0.47 0.49\n",
            "bin_share1     : 0.73 0.50 0.36 0.42\n",
            "bin_share2     : 0.76 0.50 0.38 0.43\n",
            "\n",
            "Adaboost\n",
            "bin_sam_arousal: 0.71 0.50 0.50 0.49\n",
            "bin_sam_valence: 0.50 0.50 0.49 0.48\n",
            "bin_arousal    : 0.50 0.48 0.48 0.48\n",
            "bin_valence    : 0.55 0.54 0.54 0.54\n",
            "bin_seen       : 0.94 0.50 0.47 0.49\n",
            "bin_share1     : 0.62 0.51 0.51 0.51\n",
            "bin_share2     : 0.61 0.45 0.45 0.45\n",
            "\n",
            "Decision Tree\n",
            "bin_sam_arousal: 0.61 0.47 0.47 0.47\n",
            "bin_sam_valence: 0.57 0.56 0.57 0.55\n",
            "bin_arousal    : 0.54 0.53 0.53 0.53\n",
            "bin_valence    : 0.65 0.64 0.65 0.64\n",
            "bin_seen       : 0.89 0.55 0.54 0.54\n",
            "bin_share1     : 0.62 0.51 0.51 0.51\n",
            "bin_share2     : 0.70 0.49 0.48 0.47\n",
            "\n",
            "Support Vector Machine\n",
            "bin_sam_arousal: 0.48 0.53 0.52 0.46\n",
            "bin_sam_valence: 0.52 0.50 0.26 0.34\n",
            "bin_arousal    : 0.41 0.50 0.21 0.29\n",
            "bin_valence    : 0.55 0.50 0.28 0.36\n",
            "bin_seen       : 0.68 0.75 0.56 0.51\n",
            "bin_share1     : 0.27 0.50 0.14 0.21\n",
            "bin_share2     : 0.24 0.50 0.12 0.20\n",
            "\n",
            "XGBoost\n",
            "bin_sam_arousal: 0.72 0.48 0.45 0.45\n",
            "bin_sam_valence: 0.49 0.48 0.48 0.47\n",
            "bin_arousal    : 0.45 0.43 0.43 0.43\n",
            "bin_valence    : 0.52 0.52 0.52 0.52\n",
            "bin_seen       : 0.94 0.50 0.47 0.49\n",
            "bin_share1     : 0.67 0.49 0.49 0.47\n",
            "bin_share2     : 0.71 0.48 0.45 0.44\n",
            "\n"
          ]
        }
      ]
    },
    {
      "cell_type": "code",
      "source": [
        "from sklearn.feature_selection import SelectKBest, chi2\n",
        "\n",
        "import pandas as pd\n",
        "\n",
        "feature_x = pd.read_pickle('/content/drive/MyDrive/Neuro-Marketing/median_features.pkl')\n",
        "label = pd.read_csv('/content/drive/MyDrive/Neuro-Marketing/labels.csv')\n",
        "\n",
        "feature_x.rename(columns={0: \"user_id\", 1: \"vid_num\"},inplace=True)\n",
        "\n",
        "merged_df=pd.merge(feature_x,label,on=[\"user_id\",\"vid_num\"])\n",
        "\n",
        "merged_df_x= merged_df.drop(['user_id','vid_num','sam_valence','sam_arousal','seen','valence','arousal','share1','share2','bin_sam_valence','bin_sam_arousal','bin_seen','bin_valence','bin_arousal','bin_share1','bin_share2'],axis=1)\n",
        "merged_df_info=merged_df[['user_id','vid_num','sam_valence','sam_arousal','seen','valence','arousal','share1','share2','bin_sam_valence','bin_sam_arousal','bin_seen','bin_valence','bin_arousal','bin_share1','bin_share2']]\n",
        "models = {'Random Forest': RandomForestClassifier(random_state=42, class_weight = 'balanced_subsample'),\n",
        "          'Adaboost': AdaBoostClassifier(n_estimators=100, random_state=0),\n",
        "          'Decision Tree': DecisionTreeClassifier(random_state=0, class_weight = 'balanced'),\n",
        "          'Support Vector Machine':SVC(random_state=0, class_weight = 'balanced'),\n",
        "          'XGBoost': XGBClassifier()}\n",
        "for model_name in ['Random Forest', 'Adaboost', 'Decision Tree', 'Support Vector Machine', 'XGBoost']:\n",
        "    print(model_name)\n",
        "    for target in ['bin_sam_arousal', 'bin_sam_valence', 'bin_arousal', 'bin_valence', 'bin_seen', 'bin_share1', 'bin_share2']:\n",
        "        # print()\n",
        "        # print()\n",
        "        # print(target)\n",
        "        train_x,test_x,train_y,test_y = train_test_split(merged_df_x,merged_df_info,train_size=0.8, stratify=merged_df_info[target],random_state=42)\n",
        "        # print(train_x.shape,test_x.shape,train_y.shape,test_y.shape)\n",
        "\n",
        "        #Scaling\n",
        "        scaling = False\n",
        "        selectkbest = True\n",
        "        pca = False\n",
        "\n",
        "        if scaling:\n",
        "            scaler = StandardScaler()\n",
        "            train_x_scaled = scaler.fit_transform(train_x)\n",
        "            test_x_scaled = scaler.transform(test_x)\n",
        "\n",
        "        #PCA\n",
        "        if pca:\n",
        "            pca = PCA(n_components=400)\n",
        "            if scaling:\n",
        "                train_x_scaled_pca = pca.fit_transform(train_x_scaled)\n",
        "                test_x_scaled_pca = pca.transform(test_x_scaled)\n",
        "            else:\n",
        "                train_x_scaled_pca = pca.fit_transform(train_x)\n",
        "                test_x_scaled_pca = pca.transform(test_x)\n",
        "\n",
        "\n",
        "        #Select K Best on flattened features\n",
        "        if selectkbest:\n",
        "            kbest = SelectKBest(k=400)\n",
        "            if not pca and not scaling:\n",
        "                train_x_scaled_pca = kbest.fit_transform(train_x, train_y[target])\n",
        "                test_x_scaled_pca = kbest.transform(test_x)\n",
        "        # train_x.shape\n",
        "\n",
        "        clf = models[model_name]\n",
        "        clf.fit(train_x_scaled_pca, train_y[target])\n",
        "        test_y_pred=clf.predict(test_x_scaled_pca)\n",
        "\n",
        "        accuracy = accuracy_score(test_y[target],test_y_pred)\n",
        "        precision = precision_score(test_y[target], test_y_pred,average='macro')\n",
        "        recall = recall_score(test_y[target], test_y_pred,average='macro')\n",
        "        f1 = f1_score(test_y[target], test_y_pred,average='macro')\n",
        "        # print(target + ':\\t\\t' + str(accuracy) + '\\t' + str(precision) + '\\t' + str(recall) + '\\t' + str(f1))\n",
        "        print(\"{:15s}: {:0.4f} {:0.4f} {:0.4f} {:0.4f}\".format(target, accuracy, precision, recall, f1))\n",
        "    print()"
      ],
      "metadata": {
        "colab": {
          "base_uri": "https://localhost:8080/"
        },
        "id": "aNcvX4iRnUAj",
        "outputId": "e4be44ea-b3ce-4461-cf59-f8994dcca5b7"
      },
      "execution_count": null,
      "outputs": [
        {
          "output_type": "stream",
          "name": "stdout",
          "text": [
            "Random Forest\n",
            "bin_sam_arousal: 0.7850 0.6971 0.5505 0.5413\n",
            "bin_sam_valence: 0.5140 0.5075 0.5068 0.4982\n",
            "bin_arousal    : 0.6168 0.5971 0.5718 0.5615\n",
            "bin_valence    : 0.5327 0.5211 0.5200 0.5175\n",
            "bin_seen       : 0.9439 0.4720 0.5000 0.4856\n",
            "bin_share1     : 0.7383 0.6525 0.5931 0.5995\n",
            "bin_share2     : 0.7383 0.3762 0.4877 0.4247\n",
            "\n",
            "Adaboost\n",
            "bin_sam_arousal: 0.7383 0.5989 0.5796 0.5853\n",
            "bin_sam_valence: 0.5607 0.5590 0.5585 0.5583\n",
            "bin_arousal    : 0.5981 0.5751 0.5662 0.5638\n",
            "bin_valence    : 0.5794 0.5743 0.5740 0.5741\n",
            "bin_seen       : 0.9346 0.4717 0.4950 0.4831\n",
            "bin_share1     : 0.5794 0.4850 0.4841 0.4841\n",
            "bin_share2     : 0.6542 0.4362 0.4582 0.4418\n",
            "\n",
            "Decision Tree\n",
            "bin_sam_arousal: 0.6355 0.5350 0.5429 0.5337\n",
            "bin_sam_valence: 0.5607 0.5595 0.5593 0.5594\n",
            "bin_arousal    : 0.5140 0.4910 0.4913 0.4905\n",
            "bin_valence    : 0.4673 0.4605 0.4606 0.4605\n",
            "bin_seen       : 0.9065 0.6048 0.6370 0.6179\n",
            "bin_share1     : 0.6449 0.5417 0.5398 0.5405\n",
            "bin_share2     : 0.6542 0.5114 0.5104 0.5103\n",
            "\n",
            "Support Vector Machine\n",
            "bin_sam_arousal: 0.4206 0.5592 0.5673 0.4193\n",
            "bin_sam_valence: 0.5514 0.5521 0.5522 0.5514\n",
            "bin_arousal    : 0.3645 0.3800 0.4021 0.3517\n",
            "bin_valence    : 0.5234 0.5418 0.5387 0.5192\n",
            "bin_seen       : 0.7290 0.5120 0.5429 0.4805\n",
            "bin_share1     : 0.4673 0.4694 0.4613 0.4391\n",
            "bin_share2     : 0.2710 0.4087 0.4402 0.2632\n",
            "\n",
            "XGBoost\n",
            "bin_sam_arousal: 0.7757 0.6490 0.5592 0.5591\n",
            "bin_sam_valence: 0.5140 0.5138 0.5138 0.5136\n",
            "bin_arousal    : 0.5514 0.5154 0.5128 0.5042\n",
            "bin_valence    : 0.5327 0.5260 0.5258 0.5257\n",
            "bin_seen       : 0.9439 0.4720 0.5000 0.4856\n",
            "bin_share1     : 0.6729 0.5486 0.5374 0.5368\n",
            "bin_share2     : 0.7196 0.5038 0.5014 0.4755\n",
            "\n"
          ]
        }
      ]
    },
    {
      "cell_type": "code",
      "execution_count": null,
      "metadata": {
        "colab": {
          "base_uri": "https://localhost:8080/"
        },
        "id": "4SDkKlfcEyLu",
        "outputId": "7b05aab7-1568-48eb-a366-cdcbd475b153"
      },
      "outputs": [
        {
          "output_type": "stream",
          "name": "stdout",
          "text": [
            "Accuracy 0.8\n",
            "Precision 0.5\n",
            "Recall 0.4\n",
            "F1 0.4444444444444445\n",
            "Confusion Matrix [[ 0  0]\n",
            " [ 7 28]]\n"
          ]
        },
        {
          "output_type": "stream",
          "name": "stderr",
          "text": [
            "/usr/local/lib/python3.7/dist-packages/sklearn/metrics/_classification.py:1318: UndefinedMetricWarning: Recall is ill-defined and being set to 0.0 in labels with no true samples. Use `zero_division` parameter to control this behavior.\n",
            "  _warn_prf(average, modifier, msg_start, len(result))\n"
          ]
        }
      ],
      "source": [
        "# clf = RandomForestClassifier(random_state=0)\n",
        "clf = SVC(random_state=0)\n",
        "clf.fit(train_x_scaled_pca, train_y[\"bin_share1\"])\n",
        "test_y_pred=clf.predict(test_x_scaled_pca)\n",
        "print(\"Accuracy\",accuracy_score(test_y_pred,test_y[\"bin_share1\"]))\n",
        "print(\"Precision\",precision_score(test_y_pred,test_y[\"bin_share1\"],average='macro'))\n",
        "print(\"Recall\",recall_score(test_y_pred,test_y[\"bin_share1\"],average='macro'))\n",
        "print(\"F1\",f1_score(test_y_pred,test_y[\"bin_share1\"],average='macro'))\n",
        "print(\"Confusion Matrix\",confusion_matrix(test_y_pred,test_y[\"bin_share1\"]))"
      ]
    },
    {
      "cell_type": "code",
      "execution_count": null,
      "metadata": {
        "colab": {
          "base_uri": "https://localhost:8080/"
        },
        "id": "4c29fbX3FBEf",
        "outputId": "5022a312-630e-4dfa-df03-4fed7beb82d5"
      },
      "outputs": [
        {
          "output_type": "stream",
          "name": "stdout",
          "text": [
            "Accuracy 0.8571428571428571\n",
            "Precision 0.5\n",
            "Recall 0.42857142857142855\n",
            "F1 0.4615384615384615\n",
            "Confusion Matrix [[ 0  0]\n",
            " [ 5 30]]\n"
          ]
        },
        {
          "output_type": "stream",
          "name": "stderr",
          "text": [
            "/usr/local/lib/python3.7/dist-packages/sklearn/metrics/_classification.py:1318: UndefinedMetricWarning: Recall is ill-defined and being set to 0.0 in labels with no true samples. Use `zero_division` parameter to control this behavior.\n",
            "  _warn_prf(average, modifier, msg_start, len(result))\n"
          ]
        }
      ],
      "source": [
        "# clf = RandomForestClassifier(random_state=0)\n",
        "clf = SVC(random_state=0)\n",
        "clf.fit(train_x_scaled_pca, train_y[\"bin_share2\"])\n",
        "test_y_pred=clf.predict(test_x_scaled_pca)\n",
        "print(\"Accuracy\",accuracy_score(test_y_pred,test_y[\"bin_share2\"]))\n",
        "print(\"Precision\",precision_score(test_y_pred,test_y[\"bin_share2\"],average='macro'))\n",
        "print(\"Recall\",recall_score(test_y_pred,test_y[\"bin_share2\"],average='macro'))\n",
        "print(\"F1\",f1_score(test_y_pred,test_y[\"bin_share2\"],average='macro'))\n",
        "print(\"Confusion Matrix\",confusion_matrix(test_y_pred,test_y[\"bin_share2\"]))"
      ]
    },
    {
      "cell_type": "code",
      "execution_count": null,
      "metadata": {
        "colab": {
          "base_uri": "https://localhost:8080/"
        },
        "id": "-pWlm56QFJ35",
        "outputId": "5ab0f174-0d01-44f1-b27a-4991b26163a2"
      },
      "outputs": [
        {
          "output_type": "stream",
          "name": "stdout",
          "text": [
            "Accuracy 0.42857142857142855\n",
            "Precision 0.4638157894736842\n",
            "Recall 0.38541666666666663\n",
            "F1 0.33712121212121215\n",
            "Confusion Matrix [[14 18]\n",
            " [ 2  1]]\n"
          ]
        }
      ],
      "source": [
        "# clf = RandomForestClassifier(random_state=0)\n",
        "clf = SVC(random_state=0)\n",
        "clf.fit(train_x_scaled_pca, train_y[\"bin_sam_valence\"])\n",
        "test_y_pred=clf.predict(test_x_scaled_pca)\n",
        "print(\"Accuracy\",accuracy_score(test_y_pred,test_y[\"bin_sam_valence\"]))\n",
        "print(\"Precision\",precision_score(test_y_pred,test_y[\"bin_sam_valence\"],average='macro'))\n",
        "print(\"Recall\",recall_score(test_y_pred,test_y[\"bin_sam_valence\"],average='macro'))\n",
        "print(\"F1\",f1_score(test_y_pred,test_y[\"bin_sam_valence\"],average='macro'))\n",
        "print(\"Confusion Matrix\",confusion_matrix(test_y_pred,test_y[\"bin_sam_valence\"]))"
      ]
    },
    {
      "cell_type": "code",
      "execution_count": null,
      "metadata": {
        "colab": {
          "base_uri": "https://localhost:8080/"
        },
        "id": "jJ6equrDFQr_",
        "outputId": "b6a25848-84a9-4385-ad63-3fefd8e19d11"
      },
      "outputs": [
        {
          "output_type": "stream",
          "name": "stdout",
          "text": [
            "Accuracy 0.9428571428571428\n",
            "Precision 0.5\n",
            "Recall 0.4714285714285714\n",
            "F1 0.4852941176470588\n",
            "Confusion Matrix [[ 0  0]\n",
            " [ 2 33]]\n"
          ]
        },
        {
          "output_type": "stream",
          "name": "stderr",
          "text": [
            "/usr/local/lib/python3.7/dist-packages/sklearn/metrics/_classification.py:1318: UndefinedMetricWarning: Recall is ill-defined and being set to 0.0 in labels with no true samples. Use `zero_division` parameter to control this behavior.\n",
            "  _warn_prf(average, modifier, msg_start, len(result))\n"
          ]
        }
      ],
      "source": [
        "# clf = RandomForestClassifier(random_state=0)\n",
        "clf = SVC(random_state=0)\n",
        "clf.fit(train_x_scaled_pca, train_y[\"bin_sam_arousal\"])\n",
        "test_y_pred=clf.predict(test_x_scaled_pca)\n",
        "print(\"Accuracy\",accuracy_score(test_y_pred,test_y[\"bin_sam_arousal\"]))\n",
        "print(\"Precision\",precision_score(test_y_pred,test_y[\"bin_sam_arousal\"],average='macro'))\n",
        "print(\"Recall\",recall_score(test_y_pred,test_y[\"bin_sam_arousal\"],average='macro'))\n",
        "print(\"F1\",f1_score(test_y_pred,test_y[\"bin_sam_arousal\"],average='macro'))\n",
        "print(\"Confusion Matrix\",confusion_matrix(test_y_pred,test_y[\"bin_sam_arousal\"]))"
      ]
    },
    {
      "cell_type": "markdown",
      "metadata": {
        "id": "lMsHN8vYFqIY"
      },
      "source": [
        "SAM Arousal:45.6 (better precision)\n",
        "Arousal:45.6\n",
        "SAM Valence:42\n",
        "Valence:40.3\n",
        "Share1:31.5\n",
        "Share2:38.5"
      ]
    },
    {
      "cell_type": "markdown",
      "metadata": {
        "id": "_ZP9f3OkLWyV"
      },
      "source": [
        "#### Deep Learning: BiLSTM"
      ]
    },
    {
      "cell_type": "code",
      "execution_count": null,
      "metadata": {
        "id": "rOgtEQ2wMDGP"
      },
      "outputs": [],
      "source": [
        "import pandas as pd\n",
        "import numpy as np\n",
        "import io\n",
        "import torch\n",
        "import torch.nn as nn\n",
        "import torch.nn.functional as F\n",
        "from torchvision import datasets,transforms\n",
        "import torch.optim as optim\n",
        "from torch.autograd import Variable\n",
        "import matplotlib.pyplot as plt\n",
        "from torch.utils.data import Dataset, TensorDataset\n",
        "from sklearn.metrics import accuracy_score,precision_score,recall_score,f1_score,roc_auc_score,cohen_kappa_score,confusion_matrix,roc_curve,balanced_accuracy_score\n",
        "import sys\n",
        "import os"
      ]
    },
    {
      "cell_type": "code",
      "execution_count": null,
      "metadata": {
        "colab": {
          "base_uri": "https://localhost:8080/"
        },
        "id": "r-uK4F__N-gw",
        "outputId": "e75818a8-a4c1-4408-a4aa-a5151e1ca78b"
      },
      "outputs": [
        {
          "output_type": "execute_result",
          "data": {
            "text/plain": [
              "device(type='cuda', index=0)"
            ]
          },
          "metadata": {},
          "execution_count": 25
        }
      ],
      "source": [
        "device=torch.device(\"cuda:0\" if torch.cuda.is_available() else \"cpu\" )\n",
        "device"
      ]
    },
    {
      "cell_type": "code",
      "execution_count": null,
      "metadata": {
        "id": "YC23MALkLbqp"
      },
      "outputs": [],
      "source": [
        "class BLSTM(nn.Module):\n",
        "    \"\"\" input_dim will take input of how many columns of open face you will have basically columns of matrix (713)\n",
        "    hidden_dim is upto you\n",
        "    layer_dim is upto you: can take 1,2,3\n",
        "    video_dim total number of frames of video\n",
        "    output_dim number of classes , 5 states of arousal\n",
        "    bid= boolean bidirectional\n",
        "    \"\"\"\n",
        "    def __init__(self, input_dim, hidden_dim, layer_dim,video_dim, output_dim,bid):\n",
        "        super(BLSTM, self).__init__()\n",
        "        self.hidden_dim = hidden_dim\n",
        "        self.layer_dim = layer_dim\n",
        "\n",
        "        self.lstm = nn.LSTM(input_dim, hidden_dim, layer_dim,bidirectional=bid)\n",
        "        self.dropout = nn.Dropout(0.4)\n",
        "\n",
        "        self.vid_o = 512\n",
        "\n",
        "        if bid==True:\n",
        "          self.num_dir=2\n",
        "        else:\n",
        "          self.num_dir=1\n",
        "\n",
        "        self.video_len = video_dim\n",
        "\n",
        "        self.fc= nn.Linear(self.video_len*hidden_dim*self.num_dir,self.vid_o)\n",
        "\n",
        "        self.batch_norm = nn.BatchNorm1d(self.vid_o, affine = False)\n",
        "        # self.fc_combined = nn.Sequential(nn.Linear(1000,100),nn.ReLU(),nn.Linear(100,100),nn.ReLU(),nn.Linear(100,100),nn.ReLU(),nn.Linear(100,100),nn.ReLU(),nn.Linear(100,10),nn.ReLU(),nn.Linear(10,output_dim))\n",
        "        # self.fc_combined = nn.Sequential(nn.Linear(smile_o+seq_o,100),nn.ReLU(),nn.BatchNorm1d(100, affine = False),nn.Dropout(.5),nn.Linear(100,10),nn.ReLU(),nn.Linear(10,output_dim))\n",
        "        # self.fc_combined = nn.Sequential(nn.Linear(smile_o+seq_o,10),nn.ReLU(),nn.Linear(10,output_dim))\n",
        "        # self.fc_final = nn.Sequential(nn.ReLU(),nn.Linear(self.vid_o,output_dim))\n",
        "        self.fc_final = nn.Sequential(nn.Linear(self.vid_o,64),nn.ReLU(),nn.Linear(64,output_dim))\n",
        "\n",
        "    def forward(self, x1):\n",
        "        x1=x1.to(device)\n",
        "        h0 = torch.zeros(self.layer_dim*self.num_dir, x1.size(1), self.hidden_dim).requires_grad_()\n",
        "        c0 = torch.zeros(self.layer_dim*self.num_dir, x1.size(1), self.hidden_dim).requires_grad_()\n",
        "\n",
        "        h0=h0.to(device)\n",
        "        c0=c0.to(device)\n",
        "\n",
        "        #Applied LSTM layer on Frames\n",
        "        out, (hn, cn) = self.lstm(x1, (h0, c0))\n",
        "\n",
        "        # Add a dropout layer\n",
        "        out = self.dropout(out)\n",
        "        # Add dense/FFN layer\n",
        "        out=self.fc(out.view(-1,self.video_len*self.hidden_dim*self.num_dir))\n",
        "\n",
        "        out = self.dropout(out)\n",
        "\n",
        "        # out_combined=torch.cat((out_smile,out_seq), dim=1)\n",
        "        out = self.batch_norm(out)\n",
        "        out=self.fc_final(out)\n",
        "\n",
        "        prob=nn.Softmax(dim=1)(out)\n",
        "        pred= out\n",
        "        # pred=nn.LogSoftmax(dim=1)(out)\n",
        "\n",
        "        return pred,prob"
      ]
    },
    {
      "cell_type": "code",
      "source": [
        "class FFN_FeatureSelected(nn.Module):\n",
        "    \"\"\" input_dim will take input of how many columns of open face you will have basically columns of matrix (713)\n",
        "    hidden_dim is upto you\n",
        "    layer_dim is upto you: can take 1,2,3\n",
        "    video_dim total number of frames of video\n",
        "    output_dim number of classes , 5 states of arousal\n",
        "    bid= boolean bidirectional\n",
        "    \"\"\"\n",
        "    def __init__(self, input_dim, hidden_dim, layer_dim,video_dim, output_dim,bid):\n",
        "        super(FFN_FeatureSelected, self).__init__()\n",
        "        self.hidden_dim = hidden_dim\n",
        "        self.layer_dim = layer_dim\n",
        "\n",
        "        self.lstm = nn.LSTM(input_dim, hidden_dim, layer_dim,bidirectional=bid)\n",
        "        self.dropout = nn.Dropout(0.4)\n",
        "\n",
        "        self.vid_o = 512\n",
        "\n",
        "        if bid==True:\n",
        "          self.num_dir=2\n",
        "        else:\n",
        "          self.num_dir=1\n",
        "\n",
        "        self.video_len = video_dim\n",
        "\n",
        "        self.fc= nn.Linear(self.video_len*hidden_dim*self.num_dir,self.vid_o)\n",
        "\n",
        "        self.batch_norm = nn.BatchNorm1d(self.vid_o, affine = False)\n",
        "        # self.fc_combined = nn.Sequential(nn.Linear(1000,100),nn.ReLU(),nn.Linear(100,100),nn.ReLU(),nn.Linear(100,100),nn.ReLU(),nn.Linear(100,100),nn.ReLU(),nn.Linear(100,10),nn.ReLU(),nn.Linear(10,output_dim))\n",
        "        # self.fc_combined = nn.Sequential(nn.Linear(smile_o+seq_o,100),nn.ReLU(),nn.BatchNorm1d(100, affine = False),nn.Dropout(.5),nn.Linear(100,10),nn.ReLU(),nn.Linear(10,output_dim))\n",
        "        # self.fc_combined = nn.Sequential(nn.Linear(smile_o+seq_o,10),nn.ReLU(),nn.Linear(10,output_dim))\n",
        "        # self.fc_final = nn.Sequential(nn.ReLU(),nn.Linear(self.vid_o,output_dim))\n",
        "        self.fc_final = nn.Sequential(nn.Linear(self.vid_o,64),nn.ReLU(),nn.Linear(64,output_dim))\n",
        "\n",
        "    def forward(self, x1):\n",
        "        x1=x1.to(device)\n",
        "        h0 = torch.zeros(self.layer_dim*self.num_dir, x1.size(1), self.hidden_dim).requires_grad_()\n",
        "        c0 = torch.zeros(self.layer_dim*self.num_dir, x1.size(1), self.hidden_dim).requires_grad_()\n",
        "\n",
        "        h0=h0.to(device)\n",
        "        c0=c0.to(device)\n",
        "\n",
        "        #Applied LSTM layer on Frames\n",
        "        out, (hn, cn) = self.lstm(x1, (h0, c0))\n",
        "\n",
        "        # Add a dropout layer\n",
        "        out = self.dropout(out)\n",
        "        # Add dense/FFN layer\n",
        "        out=self.fc(out.view(-1,self.video_len*self.hidden_dim*self.num_dir))\n",
        "\n",
        "        out = self.dropout(out)\n",
        "\n",
        "        # out_combined=torch.cat((out_smile,out_seq), dim=1)\n",
        "        out = self.batch_norm(out)\n",
        "        out=self.fc_final(out)\n",
        "\n",
        "        prob=nn.Softmax(dim=1)(out)\n",
        "        pred= out\n",
        "        # pred=nn.LogSoftmax(dim=1)(out)\n",
        "\n",
        "        return pred,prob"
      ],
      "metadata": {
        "id": "oBwHw_qBUYhz"
      },
      "execution_count": null,
      "outputs": []
    },
    {
      "cell_type": "markdown",
      "metadata": {
        "id": "YfsvX07DQ5Oc"
      },
      "source": [
        "Convert train test data into tensors and then create train loader test loader"
      ]
    },
    {
      "cell_type": "code",
      "execution_count": null,
      "metadata": {
        "id": "sxijIl8lXhUN"
      },
      "outputs": [],
      "source": [
        "# TensorDataset with support of transforms\n",
        "class CustomTensorDataset(Dataset):\n",
        "\n",
        "    def __init__(self, tensors, transform=None):\n",
        "        super(CustomTensorDataset, self).__init__()\n",
        "        assert all(tensors[0].size(0) == tensor.size(0) for tensor in tensors)\n",
        "        self.tensors = tensors\n",
        "        self.transform = transform\n",
        "\n",
        "    def __getitem__(self, index):\n",
        "        x = self.tensors[0][index]\n",
        "\n",
        "        # Transform the x Vector if transform is given\n",
        "        if self.transform:\n",
        "            x = self.transform(x)\n",
        "\n",
        "        y = self.tensors[1][index]\n",
        "\n",
        "        return x, y\n",
        "\n",
        "    def __len__(self):\n",
        "        return self.tensors[0].size(0)"
      ]
    },
    {
      "cell_type": "code",
      "execution_count": null,
      "metadata": {
        "id": "_kPfQZ-dSouW"
      },
      "outputs": [],
      "source": [
        "# model=BLSTM(713,100,2,21,2,True)\n",
        "model=BLSTM(100,100,2,21,2,True)\n",
        "model = model.to(device)\n",
        "# criterion= nn.NLLLoss()\n",
        "criterion= nn.CrossEntropyLoss()\n",
        "criterion = criterion.to(device)\n",
        "optimizer=optim.Adam(model.parameters(),lr=1e-5)\n",
        "b_size=32"
      ]
    },
    {
      "cell_type": "code",
      "source": [
        "train_x.shape"
      ],
      "metadata": {
        "colab": {
          "base_uri": "https://localhost:8080/"
        },
        "id": "h69_2Iz2T5mZ",
        "outputId": "f1636a7b-868a-46df-b047-1733cac30613"
      },
      "execution_count": null,
      "outputs": [
        {
          "output_type": "execute_result",
          "data": {
            "text/plain": [
              "(240, 100)"
            ]
          },
          "metadata": {},
          "execution_count": 31
        }
      ]
    },
    {
      "cell_type": "code",
      "execution_count": null,
      "metadata": {
        "id": "Sg2UxNZMcnlX",
        "colab": {
          "base_uri": "https://localhost:8080/",
          "height": 236
        },
        "outputId": "4569f6a9-d3aa-469f-a54f-49e710c06f12"
      },
      "outputs": [
        {
          "output_type": "error",
          "ename": "ValueError",
          "evalue": "ignored",
          "traceback": [
            "\u001b[0;31m---------------------------------------------------------------------------\u001b[0m",
            "\u001b[0;31mValueError\u001b[0m                                Traceback (most recent call last)",
            "\u001b[0;32m<ipython-input-30-9cf80a6a78ef>\u001b[0m in \u001b[0;36m<module>\u001b[0;34m()\u001b[0m\n\u001b[1;32m      3\u001b[0m \u001b[0;31m# test_x = test_x.to_numpy().reshape(-1,21,713)\u001b[0m\u001b[0;34m\u001b[0m\u001b[0;34m\u001b[0m\u001b[0;34m\u001b[0m\u001b[0m\n\u001b[1;32m      4\u001b[0m \u001b[0;34m\u001b[0m\u001b[0m\n\u001b[0;32m----> 5\u001b[0;31m \u001b[0mtrain_x\u001b[0m \u001b[0;34m=\u001b[0m \u001b[0mtrain_x\u001b[0m\u001b[0;34m.\u001b[0m\u001b[0mreshape\u001b[0m\u001b[0;34m(\u001b[0m\u001b[0;34m-\u001b[0m\u001b[0;36m1\u001b[0m\u001b[0;34m,\u001b[0m\u001b[0;36m21\u001b[0m\u001b[0;34m,\u001b[0m\u001b[0;36m100\u001b[0m\u001b[0;34m)\u001b[0m\u001b[0;34m\u001b[0m\u001b[0;34m\u001b[0m\u001b[0m\n\u001b[0m\u001b[1;32m      6\u001b[0m \u001b[0mval_x\u001b[0m \u001b[0;34m=\u001b[0m \u001b[0mval_x\u001b[0m\u001b[0;34m.\u001b[0m\u001b[0mreshape\u001b[0m\u001b[0;34m(\u001b[0m\u001b[0;34m-\u001b[0m\u001b[0;36m1\u001b[0m\u001b[0;34m,\u001b[0m\u001b[0;36m21\u001b[0m\u001b[0;34m,\u001b[0m\u001b[0;36m100\u001b[0m\u001b[0;34m)\u001b[0m\u001b[0;34m\u001b[0m\u001b[0;34m\u001b[0m\u001b[0m\n\u001b[1;32m      7\u001b[0m \u001b[0mtest_x\u001b[0m \u001b[0;34m=\u001b[0m \u001b[0mtest_x\u001b[0m\u001b[0;34m.\u001b[0m\u001b[0mreshape\u001b[0m\u001b[0;34m(\u001b[0m\u001b[0;34m-\u001b[0m\u001b[0;36m1\u001b[0m\u001b[0;34m,\u001b[0m\u001b[0;36m21\u001b[0m\u001b[0;34m,\u001b[0m\u001b[0;36m100\u001b[0m\u001b[0;34m)\u001b[0m\u001b[0;34m\u001b[0m\u001b[0;34m\u001b[0m\u001b[0m\n",
            "\u001b[0;31mValueError\u001b[0m: cannot reshape array of size 24000 into shape (21,100)"
          ]
        }
      ],
      "source": [
        "# train_x = train_x.to_numpy().reshape(-1,21,713)\n",
        "# val_x = val_x.to_numpy().reshape(-1,21,713)\n",
        "# test_x = test_x.to_numpy().reshape(-1,21,713)\n",
        "\n",
        "train_x = train_x.reshape(-1,21,100)\n",
        "val_x = val_x.reshape(-1,21,100)\n",
        "test_x = test_x.reshape(-1,21,100)"
      ]
    },
    {
      "cell_type": "code",
      "execution_count": null,
      "metadata": {
        "id": "rJAB-wM-U_mb"
      },
      "outputs": [],
      "source": [
        "output_variable=\"bin_arousal\"\n",
        "\n",
        "train_dataset_normal = CustomTensorDataset(tensors=(torch.from_numpy(train_x).float(),torch.from_numpy(train_y[output_variable].to_numpy()).float()))\n",
        "trainloader=torch.utils.data.DataLoader(train_dataset_normal, batch_size=b_size, shuffle=True, drop_last=True,  num_workers=2)\n",
        "\n",
        "test_dataset_normal = CustomTensorDataset(tensors=(torch.from_numpy(test_x).float(),torch.from_numpy(test_y[output_variable].to_numpy()).float()))\n",
        "testloader=torch.utils.data.DataLoader(test_dataset_normal, batch_size=b_size, drop_last=True, num_workers=2)\n",
        "\n",
        "val_dataset_normal = CustomTensorDataset(tensors=(torch.from_numpy(val_x).float(),torch.from_numpy(val_y[output_variable].to_numpy()).float()))\n",
        "validationloader=torch.utils.data.DataLoader(val_dataset_normal, batch_size=b_size, drop_last=True, num_workers=2)"
      ]
    },
    {
      "cell_type": "code",
      "execution_count": null,
      "metadata": {
        "colab": {
          "background_save": true,
          "base_uri": "https://localhost:8080/"
        },
        "id": "3EwLbAUVb9r2",
        "outputId": "a0f9f929-1836-428f-b274-b33296aca41f"
      },
      "outputs": [
        {
          "name": "stderr",
          "output_type": "stream",
          "text": [
            "  1%|          | 10/1000 [00:08<13:48,  1.20it/s]"
          ]
        },
        {
          "name": "stdout",
          "output_type": "stream",
          "text": [
            "epoch: \t10\t training loss: 0.7089683754103524\t validation loss: 0.7236872315406799\n"
          ]
        },
        {
          "name": "stderr",
          "output_type": "stream",
          "text": [
            "  2%|▏         | 20/1000 [00:17<13:31,  1.21it/s]"
          ]
        },
        {
          "name": "stdout",
          "output_type": "stream",
          "text": [
            "epoch: \t20\t training loss: 0.6979166269302368\t validation loss: 0.7650112509727478\n"
          ]
        },
        {
          "name": "stderr",
          "output_type": "stream",
          "text": [
            "  3%|▎         | 30/1000 [00:25<13:39,  1.18it/s]"
          ]
        },
        {
          "name": "stdout",
          "output_type": "stream",
          "text": [
            "epoch: \t30\t training loss: 0.6720391256468636\t validation loss: 0.7535985708236694\n"
          ]
        },
        {
          "name": "stderr",
          "output_type": "stream",
          "text": [
            "  4%|▍         | 40/1000 [00:33<13:30,  1.18it/s]"
          ]
        },
        {
          "name": "stdout",
          "output_type": "stream",
          "text": [
            "epoch: \t40\t training loss: 0.6764698880059379\t validation loss: 0.6842170357704163\n"
          ]
        },
        {
          "name": "stderr",
          "output_type": "stream",
          "text": [
            "  5%|▌         | 50/1000 [00:41<13:11,  1.20it/s]"
          ]
        },
        {
          "name": "stdout",
          "output_type": "stream",
          "text": [
            "epoch: \t50\t training loss: 0.6694594281060355\t validation loss: 0.6910657286643982\n"
          ]
        },
        {
          "name": "stderr",
          "output_type": "stream",
          "text": [
            "  6%|▌         | 60/1000 [00:50<12:58,  1.21it/s]"
          ]
        },
        {
          "name": "stdout",
          "output_type": "stream",
          "text": [
            "epoch: \t60\t training loss: 0.6462131568363735\t validation loss: 0.694076657295227\n"
          ]
        },
        {
          "name": "stderr",
          "output_type": "stream",
          "text": [
            "  7%|▋         | 70/1000 [00:58<12:39,  1.23it/s]"
          ]
        },
        {
          "name": "stdout",
          "output_type": "stream",
          "text": [
            "epoch: \t70\t training loss: 0.6261606386729649\t validation loss: 0.6840373873710632\n"
          ]
        },
        {
          "name": "stderr",
          "output_type": "stream",
          "text": [
            "  8%|▊         | 80/1000 [01:06<12:24,  1.24it/s]"
          ]
        },
        {
          "name": "stdout",
          "output_type": "stream",
          "text": [
            "epoch: \t80\t training loss: 0.6186205063547406\t validation loss: 0.7172836661338806\n"
          ]
        },
        {
          "name": "stderr",
          "output_type": "stream",
          "text": [
            "  9%|▉         | 90/1000 [01:14<12:29,  1.21it/s]"
          ]
        },
        {
          "name": "stdout",
          "output_type": "stream",
          "text": [
            "epoch: \t90\t training loss: 0.5799528360366821\t validation loss: 0.6777971982955933\n"
          ]
        },
        {
          "name": "stderr",
          "output_type": "stream",
          "text": [
            " 10%|█         | 100/1000 [01:22<12:21,  1.21it/s]"
          ]
        },
        {
          "name": "stdout",
          "output_type": "stream",
          "text": [
            "epoch: \t100\t training loss: 0.593010425567627\t validation loss: 0.6733841300010681\n"
          ]
        },
        {
          "name": "stderr",
          "output_type": "stream",
          "text": [
            " 11%|█         | 110/1000 [01:30<12:06,  1.23it/s]"
          ]
        },
        {
          "name": "stdout",
          "output_type": "stream",
          "text": [
            "epoch: \t110\t training loss: 0.5899915524891445\t validation loss: 0.6404985189437866\n"
          ]
        },
        {
          "name": "stderr",
          "output_type": "stream",
          "text": [
            " 12%|█▏        | 120/1000 [01:39<12:01,  1.22it/s]"
          ]
        },
        {
          "name": "stdout",
          "output_type": "stream",
          "text": [
            "epoch: \t120\t training loss: 0.5820630363055638\t validation loss: 0.6386384963989258\n"
          ]
        },
        {
          "name": "stderr",
          "output_type": "stream",
          "text": [
            " 13%|█▎        | 130/1000 [01:47<11:53,  1.22it/s]"
          ]
        },
        {
          "name": "stdout",
          "output_type": "stream",
          "text": [
            "epoch: \t130\t training loss: 0.5602835076195853\t validation loss: 0.6534386873245239\n"
          ]
        },
        {
          "name": "stderr",
          "output_type": "stream",
          "text": [
            " 14%|█▍        | 140/1000 [01:55<11:59,  1.20it/s]"
          ]
        },
        {
          "name": "stdout",
          "output_type": "stream",
          "text": [
            "epoch: \t140\t training loss: 0.5458767116069794\t validation loss: 0.6834458112716675\n"
          ]
        },
        {
          "name": "stderr",
          "output_type": "stream",
          "text": [
            " 15%|█▌        | 150/1000 [02:03<11:28,  1.23it/s]"
          ]
        },
        {
          "name": "stdout",
          "output_type": "stream",
          "text": [
            "epoch: \t150\t training loss: 0.560851731470653\t validation loss: 0.6488465666770935\n"
          ]
        },
        {
          "name": "stderr",
          "output_type": "stream",
          "text": [
            " 16%|█▌        | 160/1000 [02:12<11:30,  1.22it/s]"
          ]
        },
        {
          "name": "stdout",
          "output_type": "stream",
          "text": [
            "epoch: \t160\t training loss: 0.5414935435567584\t validation loss: 0.6650657057762146\n"
          ]
        },
        {
          "name": "stderr",
          "output_type": "stream",
          "text": [
            " 17%|█▋        | 170/1000 [02:20<11:21,  1.22it/s]"
          ]
        },
        {
          "name": "stdout",
          "output_type": "stream",
          "text": [
            "epoch: \t170\t training loss: 0.5450002891676766\t validation loss: 0.6149103045463562\n"
          ]
        },
        {
          "name": "stderr",
          "output_type": "stream",
          "text": [
            " 18%|█▊        | 180/1000 [02:28<11:08,  1.23it/s]"
          ]
        },
        {
          "name": "stdout",
          "output_type": "stream",
          "text": [
            "epoch: \t180\t training loss: 0.5554524106638772\t validation loss: 0.6530721783638\n"
          ]
        },
        {
          "name": "stderr",
          "output_type": "stream",
          "text": [
            " 19%|█▊        | 186/1000 [02:33<10:56,  1.24it/s]Exception ignored in: <function _MultiProcessingDataLoaderIter.__del__ at 0x7f2d3cc32950>\n",
            "Traceback (most recent call last):\n",
            "  File \"/usr/local/lib/python3.7/dist-packages/torch/utils/data/dataloader.py\", line 1358, in __del__\n",
            "    self._shutdown_workers()\n",
            "  File \"/usr/local/lib/python3.7/dist-packages/torch/utils/data/dataloader.py\", line 1341, in _shutdown_workers\n",
            "    if w.is_alive():\n",
            "  File \"/usr/lib/python3.7/multiprocessing/process.py\", line 151, in is_alive\n",
            "    assert self._parent_pid == os.getpid(), 'can only test a child process'\n",
            "AssertionError: can only test a child process\n",
            "Exception ignored in: <function _MultiProcessingDataLoaderIter.__del__ at 0x7f2d3cc32950>\n",
            "Traceback (most recent call last):\n",
            "  File \"/usr/local/lib/python3.7/dist-packages/torch/utils/data/dataloader.py\", line 1358, in __del__\n",
            "    self._shutdown_workers()\n",
            "  File \"/usr/local/lib/python3.7/dist-packages/torch/utils/data/dataloader.py\", line 1341, in _shutdown_workers\n",
            "    if w.is_alive():\n",
            "  File \"/usr/lib/python3.7/multiprocessing/process.py\", line 151, in is_alive\n",
            "    assert self._parent_pid == os.getpid(), 'can only test a child process'\n",
            "AssertionError: can only test a child process\n",
            " 19%|█▊        | 187/1000 [02:34<13:04,  1.04it/s]Exception ignored in: <function _MultiProcessingDataLoaderIter.__del__ at 0x7f2d3cc32950>\n",
            "Traceback (most recent call last):\n",
            "  File \"/usr/local/lib/python3.7/dist-packages/torch/utils/data/dataloader.py\", line 1358, in __del__\n",
            "    self._shutdown_workers()\n",
            "  File \"/usr/local/lib/python3.7/dist-packages/torch/utils/data/dataloader.py\", line 1341, in _shutdown_workers\n",
            "    if w.is_alive():\n",
            "  File \"/usr/lib/python3.7/multiprocessing/process.py\", line 151, in is_alive\n",
            "    assert self._parent_pid == os.getpid(), 'can only test a child process'\n",
            "AssertionError: can only test a child process\n",
            " 19%|█▉        | 188/1000 [02:35<13:30,  1.00it/s]Exception ignored in: <function _MultiProcessingDataLoaderIter.__del__ at 0x7f2d3cc32950>\n",
            "Traceback (most recent call last):\n",
            "  File \"/usr/local/lib/python3.7/dist-packages/torch/utils/data/dataloader.py\", line 1358, in __del__\n",
            "    self._shutdown_workers()\n",
            "  File \"/usr/local/lib/python3.7/dist-packages/torch/utils/data/dataloader.py\", line 1341, in _shutdown_workers\n",
            "    if w.is_alive():\n",
            "  File \"/usr/lib/python3.7/multiprocessing/process.py\", line 151, in is_alive\n",
            "    assert self._parent_pid == os.getpid(), 'can only test a child process'\n",
            "AssertionError: can only test a child process\n",
            "Exception ignored in: <function _MultiProcessingDataLoaderIter.__del__ at 0x7f2d3cc32950>\n",
            "Traceback (most recent call last):\n",
            "  File \"/usr/local/lib/python3.7/dist-packages/torch/utils/data/dataloader.py\", line 1358, in __del__\n",
            "    self._shutdown_workers()\n",
            "  File \"/usr/local/lib/python3.7/dist-packages/torch/utils/data/dataloader.py\", line 1341, in _shutdown_workers\n",
            "    if w.is_alive():\n",
            "  File \"/usr/lib/python3.7/multiprocessing/process.py\", line 151, in is_alive\n",
            "    assert self._parent_pid == os.getpid(), 'can only test a child process'\n",
            "AssertionError: can only test a child process\n",
            "Exception ignored in: <function _MultiProcessingDataLoaderIter.__del__ at 0x7f2d3cc32950>\n",
            "Traceback (most recent call last):\n",
            "  File \"/usr/local/lib/python3.7/dist-packages/torch/utils/data/dataloader.py\", line 1358, in __del__\n",
            "    self._shutdown_workers()\n",
            "  File \"/usr/local/lib/python3.7/dist-packages/torch/utils/data/dataloader.py\", line 1341, in _shutdown_workers\n",
            "    if w.is_alive():\n",
            "  File \"/usr/lib/python3.7/multiprocessing/process.py\", line 151, in is_alive\n",
            "    assert self._parent_pid == os.getpid(), 'can only test a child process'\n",
            "AssertionError: can only test a child process\n",
            " 19%|█▉        | 189/1000 [02:37<15:29,  1.15s/it]Exception ignored in: <function _MultiProcessingDataLoaderIter.__del__ at 0x7f2d3cc32950>\n",
            "Traceback (most recent call last):\n",
            "  File \"/usr/local/lib/python3.7/dist-packages/torch/utils/data/dataloader.py\", line 1358, in __del__\n",
            "    self._shutdown_workers()\n",
            "  File \"/usr/local/lib/python3.7/dist-packages/torch/utils/data/dataloader.py\", line 1341, in _shutdown_workers\n",
            "    if w.is_alive():\n",
            "  File \"/usr/lib/python3.7/multiprocessing/process.py\", line 151, in is_alive\n",
            "    assert self._parent_pid == os.getpid(), 'can only test a child process'\n",
            "AssertionError: can only test a child process\n",
            "Exception ignored in: <function _MultiProcessingDataLoaderIter.__del__ at 0x7f2d3cc32950>\n",
            "Traceback (most recent call last):\n",
            "  File \"/usr/local/lib/python3.7/dist-packages/torch/utils/data/dataloader.py\", line 1358, in __del__\n",
            "    self._shutdown_workers()\n",
            "  File \"/usr/local/lib/python3.7/dist-packages/torch/utils/data/dataloader.py\", line 1341, in _shutdown_workers\n",
            "    if w.is_alive():\n",
            "  File \"/usr/lib/python3.7/multiprocessing/process.py\", line 151, in is_alive\n",
            "    assert self._parent_pid == os.getpid(), 'can only test a child process'\n",
            "AssertionError: can only test a child process\n",
            " 19%|█▉        | 190/1000 [02:43<35:16,  2.61s/it]"
          ]
        },
        {
          "name": "stdout",
          "output_type": "stream",
          "text": [
            "epoch: \t190\t training loss: 0.5284647004944938\t validation loss: 0.7025055885314941\n"
          ]
        },
        {
          "name": "stderr",
          "output_type": "stream",
          "text": [
            " 20%|██        | 200/1000 [02:51<11:48,  1.13it/s]"
          ]
        },
        {
          "name": "stdout",
          "output_type": "stream",
          "text": [
            "epoch: \t200\t training loss: 0.5106440101351056\t validation loss: 0.6627928018569946\n"
          ]
        },
        {
          "name": "stderr",
          "output_type": "stream",
          "text": [
            " 21%|██        | 210/1000 [02:59<11:00,  1.20it/s]"
          ]
        },
        {
          "name": "stdout",
          "output_type": "stream",
          "text": [
            "epoch: \t210\t training loss: 0.5148928037711552\t validation loss: 0.6872432231903076\n"
          ]
        },
        {
          "name": "stderr",
          "output_type": "stream",
          "text": [
            " 22%|██▏       | 220/1000 [03:08<10:46,  1.21it/s]"
          ]
        },
        {
          "name": "stdout",
          "output_type": "stream",
          "text": [
            "epoch: \t220\t training loss: 0.48634987218039377\t validation loss: 0.6593618392944336\n"
          ]
        },
        {
          "name": "stderr",
          "output_type": "stream",
          "text": [
            " 23%|██▎       | 230/1000 [03:16<10:46,  1.19it/s]"
          ]
        },
        {
          "name": "stdout",
          "output_type": "stream",
          "text": [
            "epoch: \t230\t training loss: 0.528200456074306\t validation loss: 0.638360857963562\n"
          ]
        },
        {
          "name": "stderr",
          "output_type": "stream",
          "text": [
            " 24%|██▍       | 240/1000 [03:24<10:33,  1.20it/s]"
          ]
        },
        {
          "name": "stdout",
          "output_type": "stream",
          "text": [
            "epoch: \t240\t training loss: 0.5074374888624463\t validation loss: 0.7020761966705322\n"
          ]
        },
        {
          "name": "stderr",
          "output_type": "stream",
          "text": [
            " 25%|██▌       | 250/1000 [03:33<10:21,  1.21it/s]"
          ]
        },
        {
          "name": "stdout",
          "output_type": "stream",
          "text": [
            "epoch: \t250\t training loss: 0.4867608206612723\t validation loss: 0.6496047377586365\n"
          ]
        },
        {
          "name": "stderr",
          "output_type": "stream",
          "text": [
            " 26%|██▌       | 260/1000 [03:41<10:14,  1.21it/s]"
          ]
        },
        {
          "name": "stdout",
          "output_type": "stream",
          "text": [
            "epoch: \t260\t training loss: 0.5197483216013227\t validation loss: 0.6159277558326721\n"
          ]
        },
        {
          "name": "stderr",
          "output_type": "stream",
          "text": [
            " 27%|██▋       | 270/1000 [03:50<10:30,  1.16it/s]"
          ]
        },
        {
          "name": "stdout",
          "output_type": "stream",
          "text": [
            "epoch: \t270\t training loss: 0.47600878136498587\t validation loss: 0.629537045955658\n"
          ]
        },
        {
          "name": "stderr",
          "output_type": "stream",
          "text": [
            " 28%|██▊       | 280/1000 [03:58<10:12,  1.18it/s]"
          ]
        },
        {
          "name": "stdout",
          "output_type": "stream",
          "text": [
            "epoch: \t280\t training loss: 0.4818827893052782\t validation loss: 0.6683197617530823\n"
          ]
        },
        {
          "name": "stderr",
          "output_type": "stream",
          "text": [
            " 29%|██▉       | 290/1000 [04:07<09:54,  1.19it/s]"
          ]
        },
        {
          "name": "stdout",
          "output_type": "stream",
          "text": [
            "epoch: \t290\t training loss: 0.4677785762718746\t validation loss: 0.6144747138023376\n"
          ]
        },
        {
          "name": "stderr",
          "output_type": "stream",
          "text": [
            " 30%|███       | 300/1000 [04:15<09:55,  1.17it/s]"
          ]
        },
        {
          "name": "stdout",
          "output_type": "stream",
          "text": [
            "epoch: \t300\t training loss: 0.46074625849723816\t validation loss: 0.6785762310028076\n"
          ]
        },
        {
          "name": "stderr",
          "output_type": "stream",
          "text": [
            " 31%|███       | 310/1000 [04:23<09:37,  1.19it/s]"
          ]
        },
        {
          "name": "stdout",
          "output_type": "stream",
          "text": [
            "epoch: \t310\t training loss: 0.4538749541555132\t validation loss: 0.678087055683136\n"
          ]
        },
        {
          "name": "stderr",
          "output_type": "stream",
          "text": [
            " 32%|███▏      | 320/1000 [04:32<09:26,  1.20it/s]"
          ]
        },
        {
          "name": "stdout",
          "output_type": "stream",
          "text": [
            "epoch: \t320\t training loss: 0.4586580693721771\t validation loss: 0.6304274797439575\n"
          ]
        },
        {
          "name": "stderr",
          "output_type": "stream",
          "text": [
            " 33%|███▎      | 330/1000 [04:40<09:22,  1.19it/s]"
          ]
        },
        {
          "name": "stdout",
          "output_type": "stream",
          "text": [
            "epoch: \t330\t training loss: 0.45783834372247967\t validation loss: 0.6764929890632629\n"
          ]
        },
        {
          "name": "stderr",
          "output_type": "stream",
          "text": [
            " 34%|███▍      | 340/1000 [04:49<09:12,  1.19it/s]"
          ]
        },
        {
          "name": "stdout",
          "output_type": "stream",
          "text": [
            "epoch: \t340\t training loss: 0.434999018907547\t validation loss: 0.6659558415412903\n"
          ]
        },
        {
          "name": "stderr",
          "output_type": "stream",
          "text": [
            " 35%|███▌      | 350/1000 [04:57<09:02,  1.20it/s]"
          ]
        },
        {
          "name": "stdout",
          "output_type": "stream",
          "text": [
            "epoch: \t350\t training loss: 0.43437969258853365\t validation loss: 0.6900044083595276\n"
          ]
        },
        {
          "name": "stderr",
          "output_type": "stream",
          "text": [
            " 36%|███▌      | 360/1000 [05:05<08:56,  1.19it/s]"
          ]
        },
        {
          "name": "stdout",
          "output_type": "stream",
          "text": [
            "epoch: \t360\t training loss: 0.4591023027896881\t validation loss: 0.7077712416648865\n"
          ]
        },
        {
          "name": "stderr",
          "output_type": "stream",
          "text": [
            " 37%|███▋      | 370/1000 [05:14<08:44,  1.20it/s]"
          ]
        },
        {
          "name": "stdout",
          "output_type": "stream",
          "text": [
            "epoch: \t370\t training loss: 0.39860512954848154\t validation loss: 0.7202351093292236\n"
          ]
        },
        {
          "name": "stderr",
          "output_type": "stream",
          "text": [
            " 38%|███▊      | 380/1000 [05:22<08:37,  1.20it/s]"
          ]
        },
        {
          "name": "stdout",
          "output_type": "stream",
          "text": [
            "epoch: \t380\t training loss: 0.3792813037122999\t validation loss: 0.7622933387756348\n"
          ]
        },
        {
          "name": "stderr",
          "output_type": "stream",
          "text": [
            " 39%|███▉      | 390/1000 [05:30<08:40,  1.17it/s]"
          ]
        },
        {
          "name": "stdout",
          "output_type": "stream",
          "text": [
            "epoch: \t390\t training loss: 0.42351297395569937\t validation loss: 0.7792247533798218\n"
          ]
        },
        {
          "name": "stderr",
          "output_type": "stream",
          "text": [
            " 40%|████      | 400/1000 [05:39<08:31,  1.17it/s]"
          ]
        },
        {
          "name": "stdout",
          "output_type": "stream",
          "text": [
            "epoch: \t400\t training loss: 0.4009515217372349\t validation loss: 0.7338103652000427\n"
          ]
        },
        {
          "name": "stderr",
          "output_type": "stream",
          "text": [
            " 41%|████      | 410/1000 [05:47<08:11,  1.20it/s]"
          ]
        },
        {
          "name": "stdout",
          "output_type": "stream",
          "text": [
            "epoch: \t410\t training loss: 0.38242327741214205\t validation loss: 0.6832368969917297\n"
          ]
        },
        {
          "name": "stderr",
          "output_type": "stream",
          "text": [
            " 42%|████▏     | 420/1000 [05:56<08:07,  1.19it/s]"
          ]
        },
        {
          "name": "stdout",
          "output_type": "stream",
          "text": [
            "epoch: \t420\t training loss: 0.416054938520704\t validation loss: 0.7464160323143005\n"
          ]
        },
        {
          "name": "stderr",
          "output_type": "stream",
          "text": [
            " 43%|████▎     | 430/1000 [06:04<08:04,  1.18it/s]"
          ]
        },
        {
          "name": "stdout",
          "output_type": "stream",
          "text": [
            "epoch: \t430\t training loss: 0.36541504093578886\t validation loss: 0.6969069838523865\n"
          ]
        },
        {
          "name": "stderr",
          "output_type": "stream",
          "text": [
            " 44%|████▍     | 440/1000 [06:13<07:56,  1.17it/s]"
          ]
        },
        {
          "name": "stdout",
          "output_type": "stream",
          "text": [
            "epoch: \t440\t training loss: 0.401861561196191\t validation loss: 0.6978764533996582\n"
          ]
        },
        {
          "name": "stderr",
          "output_type": "stream",
          "text": [
            " 45%|████▌     | 450/1000 [06:21<07:39,  1.20it/s]"
          ]
        },
        {
          "name": "stdout",
          "output_type": "stream",
          "text": [
            "epoch: \t450\t training loss: 0.3914363256522587\t validation loss: 0.827872633934021\n"
          ]
        },
        {
          "name": "stderr",
          "output_type": "stream",
          "text": [
            " 46%|████▌     | 460/1000 [06:30<07:37,  1.18it/s]"
          ]
        },
        {
          "name": "stdout",
          "output_type": "stream",
          "text": [
            "epoch: \t460\t training loss: 0.36081791136945995\t validation loss: 0.776482105255127\n"
          ]
        },
        {
          "name": "stderr",
          "output_type": "stream",
          "text": [
            " 47%|████▋     | 470/1000 [06:38<07:31,  1.17it/s]"
          ]
        },
        {
          "name": "stdout",
          "output_type": "stream",
          "text": [
            "epoch: \t470\t training loss: 0.353623275245939\t validation loss: 0.7228211164474487\n"
          ]
        },
        {
          "name": "stderr",
          "output_type": "stream",
          "text": [
            " 48%|████▊     | 480/1000 [06:46<07:17,  1.19it/s]"
          ]
        },
        {
          "name": "stdout",
          "output_type": "stream",
          "text": [
            "epoch: \t480\t training loss: 0.3532899022102356\t validation loss: 0.7963698506355286\n"
          ]
        },
        {
          "name": "stderr",
          "output_type": "stream",
          "text": [
            " 49%|████▉     | 490/1000 [06:55<07:19,  1.16it/s]"
          ]
        },
        {
          "name": "stdout",
          "output_type": "stream",
          "text": [
            "epoch: \t490\t training loss: 0.3395714653389795\t validation loss: 0.8205359578132629\n"
          ]
        },
        {
          "name": "stderr",
          "output_type": "stream",
          "text": [
            " 50%|█████     | 500/1000 [07:04<07:08,  1.17it/s]"
          ]
        },
        {
          "name": "stdout",
          "output_type": "stream",
          "text": [
            "epoch: \t500\t training loss: 0.33207380771636963\t validation loss: 0.7322784066200256\n"
          ]
        },
        {
          "name": "stderr",
          "output_type": "stream",
          "text": [
            " 51%|█████     | 510/1000 [07:12<06:57,  1.17it/s]"
          ]
        },
        {
          "name": "stdout",
          "output_type": "stream",
          "text": [
            "epoch: \t510\t training loss: 0.3241714537143707\t validation loss: 0.8529274463653564\n"
          ]
        },
        {
          "name": "stderr",
          "output_type": "stream",
          "text": [
            " 52%|█████▏    | 520/1000 [07:21<06:44,  1.19it/s]"
          ]
        },
        {
          "name": "stdout",
          "output_type": "stream",
          "text": [
            "epoch: \t520\t training loss: 0.3539233250277383\t validation loss: 0.808584451675415\n"
          ]
        },
        {
          "name": "stderr",
          "output_type": "stream",
          "text": [
            " 53%|█████▎    | 530/1000 [07:29<06:42,  1.17it/s]"
          ]
        },
        {
          "name": "stdout",
          "output_type": "stream",
          "text": [
            "epoch: \t530\t training loss: 0.31492094908441814\t validation loss: 0.8263929486274719\n"
          ]
        },
        {
          "name": "stderr",
          "output_type": "stream",
          "text": [
            " 54%|█████▍    | 540/1000 [07:38<06:29,  1.18it/s]"
          ]
        },
        {
          "name": "stdout",
          "output_type": "stream",
          "text": [
            "epoch: \t540\t training loss: 0.3120669978005545\t validation loss: 0.858020007610321\n"
          ]
        },
        {
          "name": "stderr",
          "output_type": "stream",
          "text": [
            " 55%|█████▌    | 550/1000 [07:46<06:17,  1.19it/s]"
          ]
        },
        {
          "name": "stdout",
          "output_type": "stream",
          "text": [
            "epoch: \t550\t training loss: 0.3126743882894516\t validation loss: 0.8709061741828918\n"
          ]
        },
        {
          "name": "stderr",
          "output_type": "stream",
          "text": [
            " 56%|█████▌    | 560/1000 [07:54<06:10,  1.19it/s]"
          ]
        },
        {
          "name": "stdout",
          "output_type": "stream",
          "text": [
            "epoch: \t560\t training loss: 0.2948339028017862\t validation loss: 0.9987665414810181\n"
          ]
        },
        {
          "name": "stderr",
          "output_type": "stream",
          "text": [
            " 57%|█████▋    | 570/1000 [08:03<06:08,  1.17it/s]"
          ]
        },
        {
          "name": "stdout",
          "output_type": "stream",
          "text": [
            "epoch: \t570\t training loss: 0.29705906765801565\t validation loss: 0.9239726066589355\n"
          ]
        },
        {
          "name": "stderr",
          "output_type": "stream",
          "text": [
            " 58%|█████▊    | 580/1000 [08:11<05:55,  1.18it/s]"
          ]
        },
        {
          "name": "stdout",
          "output_type": "stream",
          "text": [
            "epoch: \t580\t training loss: 0.2828337230852672\t validation loss: 0.850284218788147\n"
          ]
        },
        {
          "name": "stderr",
          "output_type": "stream",
          "text": [
            " 59%|█████▉    | 590/1000 [08:20<05:51,  1.17it/s]"
          ]
        },
        {
          "name": "stdout",
          "output_type": "stream",
          "text": [
            "epoch: \t590\t training loss: 0.2525710676397596\t validation loss: 0.9922559261322021\n"
          ]
        },
        {
          "name": "stderr",
          "output_type": "stream",
          "text": [
            " 60%|██████    | 600/1000 [08:29<05:40,  1.17it/s]"
          ]
        },
        {
          "name": "stdout",
          "output_type": "stream",
          "text": [
            "epoch: \t600\t training loss: 0.2739914506673813\t validation loss: 1.0077842473983765\n"
          ]
        },
        {
          "name": "stderr",
          "output_type": "stream",
          "text": [
            " 61%|██████    | 610/1000 [08:37<05:31,  1.18it/s]"
          ]
        },
        {
          "name": "stdout",
          "output_type": "stream",
          "text": [
            "epoch: \t610\t training loss: 0.2450869381427765\t validation loss: 0.9527415037155151\n"
          ]
        },
        {
          "name": "stderr",
          "output_type": "stream",
          "text": [
            " 62%|██████▏   | 620/1000 [08:46<05:22,  1.18it/s]"
          ]
        },
        {
          "name": "stdout",
          "output_type": "stream",
          "text": [
            "epoch: \t620\t training loss: 0.2295702142374856\t validation loss: 0.9925650954246521\n"
          ]
        },
        {
          "name": "stderr",
          "output_type": "stream",
          "text": [
            " 63%|██████▎   | 630/1000 [08:54<05:16,  1.17it/s]"
          ]
        },
        {
          "name": "stdout",
          "output_type": "stream",
          "text": [
            "epoch: \t630\t training loss: 0.2654577110494886\t validation loss: 1.0487116575241089\n"
          ]
        },
        {
          "name": "stderr",
          "output_type": "stream",
          "text": [
            " 64%|██████▍   | 640/1000 [09:03<05:10,  1.16it/s]"
          ]
        },
        {
          "name": "stdout",
          "output_type": "stream",
          "text": [
            "epoch: \t640\t training loss: 0.2625167540141514\t validation loss: 1.0350596904754639\n"
          ]
        },
        {
          "name": "stderr",
          "output_type": "stream",
          "text": [
            " 65%|██████▌   | 650/1000 [09:11<04:58,  1.17it/s]"
          ]
        },
        {
          "name": "stdout",
          "output_type": "stream",
          "text": [
            "epoch: \t650\t training loss: 0.25678873913628714\t validation loss: 0.9614807963371277\n"
          ]
        },
        {
          "name": "stderr",
          "output_type": "stream",
          "text": [
            " 66%|██████▌   | 660/1000 [09:20<04:47,  1.18it/s]"
          ]
        },
        {
          "name": "stdout",
          "output_type": "stream",
          "text": [
            "epoch: \t660\t training loss: 0.2410195916891098\t validation loss: 1.0640603303909302\n"
          ]
        },
        {
          "name": "stderr",
          "output_type": "stream",
          "text": [
            " 67%|██████▋   | 670/1000 [09:28<04:50,  1.14it/s]"
          ]
        },
        {
          "name": "stdout",
          "output_type": "stream",
          "text": [
            "epoch: \t670\t training loss: 0.20842593269688742\t validation loss: 0.90547776222229\n"
          ]
        },
        {
          "name": "stderr",
          "output_type": "stream",
          "text": [
            " 68%|██████▊   | 680/1000 [09:37<04:35,  1.16it/s]"
          ]
        },
        {
          "name": "stdout",
          "output_type": "stream",
          "text": [
            "epoch: \t680\t training loss: 0.2310010939836502\t validation loss: 1.0737860202789307\n"
          ]
        },
        {
          "name": "stderr",
          "output_type": "stream",
          "text": [
            " 69%|██████▉   | 690/1000 [09:46<04:32,  1.14it/s]"
          ]
        },
        {
          "name": "stdout",
          "output_type": "stream",
          "text": [
            "epoch: \t690\t training loss: 0.24658397691590445\t validation loss: 1.1011970043182373\n"
          ]
        },
        {
          "name": "stderr",
          "output_type": "stream",
          "text": [
            " 70%|███████   | 700/1000 [09:55<04:23,  1.14it/s]"
          ]
        },
        {
          "name": "stdout",
          "output_type": "stream",
          "text": [
            "epoch: \t700\t training loss: 0.21986301243305206\t validation loss: 1.178689956665039\n"
          ]
        },
        {
          "name": "stderr",
          "output_type": "stream",
          "text": [
            " 71%|███████   | 710/1000 [10:03<04:14,  1.14it/s]"
          ]
        },
        {
          "name": "stdout",
          "output_type": "stream",
          "text": [
            "epoch: \t710\t training loss: 0.20257335156202316\t validation loss: 1.167734146118164\n"
          ]
        },
        {
          "name": "stderr",
          "output_type": "stream",
          "text": [
            " 72%|███████▏  | 720/1000 [10:12<04:03,  1.15it/s]"
          ]
        },
        {
          "name": "stdout",
          "output_type": "stream",
          "text": [
            "epoch: \t720\t training loss: 0.24000742499317443\t validation loss: 1.0787478685379028\n"
          ]
        },
        {
          "name": "stderr",
          "output_type": "stream",
          "text": [
            " 73%|███████▎  | 730/1000 [10:21<04:04,  1.10it/s]"
          ]
        },
        {
          "name": "stdout",
          "output_type": "stream",
          "text": [
            "epoch: \t730\t training loss: 0.24226310210568563\t validation loss: 1.1300623416900635\n"
          ]
        },
        {
          "name": "stderr",
          "output_type": "stream",
          "text": [
            " 74%|███████▍  | 740/1000 [10:31<04:05,  1.06it/s]"
          ]
        },
        {
          "name": "stdout",
          "output_type": "stream",
          "text": [
            "epoch: \t740\t training loss: 0.22627840510436467\t validation loss: 1.2183172702789307\n"
          ]
        },
        {
          "name": "stderr",
          "output_type": "stream",
          "text": [
            " 75%|███████▌  | 750/1000 [10:40<03:44,  1.11it/s]"
          ]
        },
        {
          "name": "stdout",
          "output_type": "stream",
          "text": [
            "epoch: \t750\t training loss: 0.20010586721556528\t validation loss: 1.1037222146987915\n"
          ]
        },
        {
          "name": "stderr",
          "output_type": "stream",
          "text": [
            " 76%|███████▌  | 760/1000 [10:50<03:36,  1.11it/s]"
          ]
        },
        {
          "name": "stdout",
          "output_type": "stream",
          "text": [
            "epoch: \t760\t training loss: 0.19867693100656783\t validation loss: 1.097528338432312\n"
          ]
        },
        {
          "name": "stderr",
          "output_type": "stream",
          "text": [
            " 77%|███████▋  | 770/1000 [10:58<03:23,  1.13it/s]"
          ]
        },
        {
          "name": "stdout",
          "output_type": "stream",
          "text": [
            "epoch: \t770\t training loss: 0.2055906844990594\t validation loss: 1.195941686630249\n"
          ]
        },
        {
          "name": "stderr",
          "output_type": "stream",
          "text": [
            " 78%|███████▊  | 780/1000 [11:07<03:17,  1.11it/s]"
          ]
        },
        {
          "name": "stdout",
          "output_type": "stream",
          "text": [
            "epoch: \t780\t training loss: 0.17511907858507975\t validation loss: 1.3650423288345337\n"
          ]
        },
        {
          "name": "stderr",
          "output_type": "stream",
          "text": [
            " 79%|███████▉  | 790/1000 [11:16<03:07,  1.12it/s]"
          ]
        },
        {
          "name": "stdout",
          "output_type": "stream",
          "text": [
            "epoch: \t790\t training loss: 0.1654909753373691\t validation loss: 1.2876684665679932\n"
          ]
        },
        {
          "name": "stderr",
          "output_type": "stream",
          "text": [
            " 80%|████████  | 800/1000 [11:26<03:09,  1.05it/s]"
          ]
        },
        {
          "name": "stdout",
          "output_type": "stream",
          "text": [
            "epoch: \t800\t training loss: 0.130357597555433\t validation loss: 1.24117112159729\n"
          ]
        },
        {
          "name": "stderr",
          "output_type": "stream",
          "text": [
            " 81%|████████  | 810/1000 [11:35<02:55,  1.08it/s]"
          ]
        },
        {
          "name": "stdout",
          "output_type": "stream",
          "text": [
            "epoch: \t810\t training loss: 0.1588272186262267\t validation loss: 1.3834409713745117\n"
          ]
        },
        {
          "name": "stderr",
          "output_type": "stream",
          "text": [
            " 82%|████████▏ | 820/1000 [11:44<02:40,  1.12it/s]"
          ]
        },
        {
          "name": "stdout",
          "output_type": "stream",
          "text": [
            "epoch: \t820\t training loss: 0.15302239997046335\t validation loss: 1.258487343788147\n"
          ]
        },
        {
          "name": "stderr",
          "output_type": "stream",
          "text": [
            " 83%|████████▎ | 830/1000 [11:53<02:36,  1.09it/s]"
          ]
        },
        {
          "name": "stdout",
          "output_type": "stream",
          "text": [
            "epoch: \t830\t training loss: 0.13678904197045735\t validation loss: 1.3234468698501587\n"
          ]
        },
        {
          "name": "stderr",
          "output_type": "stream",
          "text": [
            " 84%|████████▍ | 840/1000 [12:02<02:21,  1.13it/s]"
          ]
        },
        {
          "name": "stdout",
          "output_type": "stream",
          "text": [
            "epoch: \t840\t training loss: 0.1565819446529661\t validation loss: 1.3344581127166748\n"
          ]
        },
        {
          "name": "stderr",
          "output_type": "stream",
          "text": [
            " 85%|████████▌ | 850/1000 [12:11<02:19,  1.07it/s]"
          ]
        },
        {
          "name": "stdout",
          "output_type": "stream",
          "text": [
            "epoch: \t850\t training loss: 0.16296485279287612\t validation loss: 1.2847405672073364\n"
          ]
        },
        {
          "name": "stderr",
          "output_type": "stream",
          "text": [
            " 86%|████████▌ | 860/1000 [12:20<02:04,  1.12it/s]"
          ]
        },
        {
          "name": "stdout",
          "output_type": "stream",
          "text": [
            "epoch: \t860\t training loss: 0.16437313758901187\t validation loss: 1.3273061513900757\n"
          ]
        },
        {
          "name": "stderr",
          "output_type": "stream",
          "text": [
            " 87%|████████▋ | 870/1000 [12:29<01:55,  1.12it/s]"
          ]
        },
        {
          "name": "stdout",
          "output_type": "stream",
          "text": [
            "epoch: \t870\t training loss: 0.11404285154172353\t validation loss: 1.2143492698669434\n"
          ]
        },
        {
          "name": "stderr",
          "output_type": "stream",
          "text": [
            " 88%|████████▊ | 880/1000 [12:38<01:47,  1.12it/s]"
          ]
        },
        {
          "name": "stdout",
          "output_type": "stream",
          "text": [
            "epoch: \t880\t training loss: 0.15142546061958587\t validation loss: 1.3822320699691772\n"
          ]
        },
        {
          "name": "stderr",
          "output_type": "stream",
          "text": [
            " 89%|████████▉ | 890/1000 [12:47<01:38,  1.12it/s]"
          ]
        },
        {
          "name": "stdout",
          "output_type": "stream",
          "text": [
            "epoch: \t890\t training loss: 0.08928334287234715\t validation loss: 1.5223689079284668\n"
          ]
        },
        {
          "name": "stderr",
          "output_type": "stream",
          "text": [
            " 90%|█████████ | 900/1000 [12:56<01:32,  1.08it/s]"
          ]
        },
        {
          "name": "stdout",
          "output_type": "stream",
          "text": [
            "epoch: \t900\t training loss: 0.10218307908092226\t validation loss: 1.3714239597320557\n"
          ]
        },
        {
          "name": "stderr",
          "output_type": "stream",
          "text": [
            " 91%|█████████ | 910/1000 [13:05<01:19,  1.13it/s]"
          ]
        },
        {
          "name": "stdout",
          "output_type": "stream",
          "text": [
            "epoch: \t910\t training loss: 0.14440323093107768\t validation loss: 1.5539774894714355\n"
          ]
        },
        {
          "name": "stderr",
          "output_type": "stream",
          "text": [
            " 92%|█████████▏| 920/1000 [13:14<01:13,  1.08it/s]"
          ]
        },
        {
          "name": "stdout",
          "output_type": "stream",
          "text": [
            "epoch: \t920\t training loss: 0.11451257658856255\t validation loss: 1.4767342805862427\n"
          ]
        },
        {
          "name": "stderr",
          "output_type": "stream",
          "text": [
            " 93%|█████████▎| 930/1000 [13:23<01:01,  1.14it/s]"
          ]
        },
        {
          "name": "stdout",
          "output_type": "stream",
          "text": [
            "epoch: \t930\t training loss: 0.12080018860953194\t validation loss: 1.7862412929534912\n"
          ]
        },
        {
          "name": "stderr",
          "output_type": "stream",
          "text": [
            " 94%|█████████▍| 940/1000 [13:32<00:53,  1.12it/s]"
          ]
        },
        {
          "name": "stdout",
          "output_type": "stream",
          "text": [
            "epoch: \t940\t training loss: 0.12418510551963534\t validation loss: 1.3152271509170532\n"
          ]
        },
        {
          "name": "stderr",
          "output_type": "stream",
          "text": [
            " 95%|█████████▌| 950/1000 [13:41<00:46,  1.08it/s]"
          ]
        },
        {
          "name": "stdout",
          "output_type": "stream",
          "text": [
            "epoch: \t950\t training loss: 0.08666377195290156\t validation loss: 1.492071509361267\n"
          ]
        },
        {
          "name": "stderr",
          "output_type": "stream",
          "text": [
            " 96%|█████████▌| 960/1000 [13:50<00:35,  1.14it/s]"
          ]
        },
        {
          "name": "stdout",
          "output_type": "stream",
          "text": [
            "epoch: \t960\t training loss: 0.12264137927974973\t validation loss: 2.024707555770874\n"
          ]
        },
        {
          "name": "stderr",
          "output_type": "stream",
          "text": [
            " 97%|█████████▋| 970/1000 [13:59<00:25,  1.16it/s]"
          ]
        },
        {
          "name": "stdout",
          "output_type": "stream",
          "text": [
            "epoch: \t970\t training loss: 0.10402926057577133\t validation loss: 1.2930725812911987\n"
          ]
        },
        {
          "name": "stderr",
          "output_type": "stream",
          "text": [
            " 98%|█████████▊| 980/1000 [14:08<00:17,  1.14it/s]"
          ]
        },
        {
          "name": "stdout",
          "output_type": "stream",
          "text": [
            "epoch: \t980\t training loss: 0.10944320048604693\t validation loss: 1.5366358757019043\n"
          ]
        },
        {
          "name": "stderr",
          "output_type": "stream",
          "text": [
            " 99%|█████████▉| 990/1000 [14:17<00:08,  1.14it/s]"
          ]
        },
        {
          "name": "stdout",
          "output_type": "stream",
          "text": [
            "epoch: \t990\t training loss: 0.12380751328808921\t validation loss: 1.2619234323501587\n"
          ]
        },
        {
          "name": "stderr",
          "output_type": "stream",
          "text": [
            "100%|██████████| 1000/1000 [14:25<00:00,  1.16it/s]"
          ]
        },
        {
          "name": "stdout",
          "output_type": "stream",
          "text": [
            "epoch: \t1000\t training loss: 0.14583501805152213\t validation loss: 1.8077082633972168\n"
          ]
        },
        {
          "name": "stderr",
          "output_type": "stream",
          "text": [
            "\n"
          ]
        }
      ],
      "source": [
        "# # batch size\n",
        "# batch_size = 32\n",
        "# number of epochs to train the model\n",
        "n_epochs = 1000\n",
        "print_every_x_epochs = int(n_epochs/100)\n",
        "min_val_loss = 9999999999999\n",
        "state = {}\n",
        "for epoch in tqdm(range(1, n_epochs+1), position=0, leave=True):\n",
        "    train_preds = []\n",
        "    val_preds = []\n",
        "\n",
        "    train_loss = 0.0\n",
        "\n",
        "\n",
        "    training_loss = []\n",
        "    validation_loss = []\n",
        "\n",
        "    for inputs, labels in trainloader:\n",
        "        batch_x, batch_y = inputs, labels\n",
        "\n",
        "        optimizer.zero_grad()\n",
        "        batch_y = batch_y.type(torch.LongTensor)\n",
        "        batch_x, batch_y = batch_x.to(device), batch_y.to(device)\n",
        "        outputs = model(batch_x)[0]\n",
        "\n",
        "        train_preds.extend(torch.argmax(outputs, 1))\n",
        "        loss = criterion(outputs,batch_y)\n",
        "\n",
        "        training_loss.append(loss.item())\n",
        "        loss.backward()\n",
        "        optimizer.step()\n",
        "\n",
        "\n",
        "    for inputs, labels in validationloader:\n",
        "        batch_x, batch_y = inputs, labels\n",
        "\n",
        "        optimizer.zero_grad()\n",
        "        batch_y = batch_y.type(torch.LongTensor)\n",
        "        batch_x, batch_y = batch_x.to(device), batch_y.to(device)\n",
        "        outputs = model(batch_x)[0]\n",
        "        val_preds.extend(torch.argmax(outputs, 1))\n",
        "        loss = criterion(outputs,batch_y)\n",
        "        validation_loss.append(loss.item())\n",
        "\n",
        "    if min_val_loss > validation_loss[-1]:\n",
        "        state = { 'epoch': epoch, 'state_dict': model.state_dict(), 'optimizer': optimizer.state_dict(),}\n",
        "        torch.save(state, \"/content/drive/MyDrive/Neuro-Marketing/Saved Models/MIL.pth\")\n",
        "        min_val_loss = validation_loss[-1]\n",
        "\n",
        "    validation_loss = np.average(validation_loss)\n",
        "    training_loss = np.average(training_loss)\n",
        "\n",
        "    train_preds = [int(i) for i in train_preds]\n",
        "\n",
        "    if(epoch%print_every_x_epochs==0):\n",
        "        s = 'epoch: \\t'+str(epoch)+'\\t training loss: '+ str(training_loss) + '\\t validation loss: ' + str(validation_loss)\n",
        "        print(s)\n",
        "\n",
        "model.load_state_dict(state['state_dict'])\n",
        "optimizer.load_state_dict(state['optimizer'])"
      ]
    },
    {
      "cell_type": "code",
      "execution_count": null,
      "metadata": {
        "colab": {
          "background_save": true
        },
        "id": "GzWN7hF8JCCG",
        "outputId": "334fd8be-347a-4903-8abb-4786688d783b"
      },
      "outputs": [
        {
          "data": {
            "text/plain": [
              "0.5828405618667603"
            ]
          },
          "execution_count": null,
          "metadata": {},
          "output_type": "execute_result"
        }
      ],
      "source": [
        "min_val_loss"
      ]
    },
    {
      "cell_type": "code",
      "execution_count": null,
      "metadata": {
        "colab": {
          "background_save": true
        },
        "id": "VrMCMDrAreud"
      },
      "outputs": [],
      "source": [
        "def plot_confusion_matrix(cm, classes, title='Confusion matrix', cmap=plt.cm.Blues):\n",
        "#     print(cm)\n",
        "    plt.imshow(cm, interpolation='nearest', cmap=cmap)\n",
        "    plt.title(title)\n",
        "    plt.colorbar()\n",
        "    tick_marks = np.arange(len(classes))\n",
        "    plt.xticks(tick_marks, classes, rotation=45)\n",
        "    plt.yticks(tick_marks, classes)\n",
        "\n",
        "    thresh = cm.max() / 2.\n",
        "    for i, j in itertools.product(range(cm.shape[0]), range(cm.shape[1])):\n",
        "        plt.text(j, i, format(cm[i, j], 'd'), horizontalalignment=\"center\", color=\"white\" if cm[i, j] > thresh else \"black\")\n",
        "\n",
        "    plt.tight_layout()\n",
        "    plt.ylabel('True label')\n",
        "    plt.xlabel('Predicted label')\n",
        "    plt.savefig(\"CM_\"+title+\".png\")\n",
        "    plt.show()"
      ]
    },
    {
      "cell_type": "markdown",
      "metadata": {
        "id": "GhAmpOiYUzNi"
      },
      "source": []
    },
    {
      "cell_type": "code",
      "execution_count": null,
      "metadata": {
        "colab": {
          "background_save": true
        },
        "id": "nnesUCardZvF"
      },
      "outputs": [],
      "source": [
        "from sklearn.metrics import classification_report\n",
        "from sklearn.metrics import accuracy_score, precision_score, recall_score, f1_score, roc_auc_score, cohen_kappa_score,confusion_matrix\n",
        "\n",
        "def provide_metrics(y_pred,y_true,dataset_name='Training'):\n",
        "  print(dataset_name+\" Accuracy\",accuracy_score(y_true,y_pred))\n",
        "  print(dataset_name+\" Precision\",precision_score(y_true,y_pred,average='macro'))\n",
        "  print(dataset_name+\" Recall\",recall_score(y_true,y_pred,average='macro'))\n",
        "  print(dataset_name+\" F1\",f1_score(y_true,y_pred,average='macro'))"
      ]
    },
    {
      "cell_type": "code",
      "execution_count": null,
      "metadata": {
        "colab": {
          "background_save": true
        },
        "id": "YbIvmPCrreq_",
        "outputId": "655b7b46-299b-4441-f9c2-16b2a7bb1b1c"
      },
      "outputs": [
        {
          "name": "stdout",
          "output_type": "stream",
          "text": [
            "Training Accuracy 0.9821428571428571\n",
            "Training Precision 0.9719512195121951\n",
            "Training Recall 0.9823431657665143\n",
            "Training F1 0.9769902413970211\n"
          ]
        },
        {
          "data": {
            "image/png": "[encoded data removed]",
            "text/plain": [
              "<Figure size 432x288 with 2 Axes>"
            ]
          },
          "metadata": {},
          "output_type": "display_data"
        }
      ],
      "source": [
        "# prediction for training set\n",
        "prediction = []\n",
        "target = []\n",
        "\n",
        "for inputs, labels in trainloader:\n",
        "    model.eval()\n",
        "    batch_x, batch_y = inputs, labels\n",
        "\n",
        "    optimizer.zero_grad()\n",
        "    batch_y = batch_y.type(torch.LongTensor)\n",
        "    batch_x, batch_y = batch_x.to(device), batch_y.to(device)\n",
        "    outputs = model(batch_x)[0]\n",
        "\n",
        "    prediction.extend(torch.argmax(outputs, 1).tolist())\n",
        "    target.extend(batch_y.tolist())\n",
        "\n",
        "\n",
        "# training accuracy\n",
        "# print('training accuracy: \\t', accuracy_score(target, prediction))\n",
        "provide_metrics(target,prediction,'Training')\n",
        "cm = confusion_matrix(target, prediction)\n",
        "plot_confusion_matrix(cm, ['0', '1', '2', '3', '4'], title='Training Set: '+str(accuracy_score(target, prediction)))"
      ]
    },
    {
      "cell_type": "code",
      "execution_count": null,
      "metadata": {
        "colab": {
          "background_save": true
        },
        "id": "pqR-h18yrenj",
        "outputId": "e2b5a58e-06a2-4548-b5d7-37594ebfe3c2"
      },
      "outputs": [
        {
          "name": "stdout",
          "output_type": "stream",
          "text": [
            "Validation Accuracy 0.59375\n",
            "Validation Precision 0.4375\n",
            "Validation Recall 0.4314285714285714\n",
            "Validation F1 0.4340136054421769\n"
          ]
        },
        {
          "data": {
            "image/png": "[encoded data removed]",
            "text/plain": [
              "<Figure size 432x288 with 2 Axes>"
            ]
          },
          "metadata": {},
          "output_type": "display_data"
        }
      ],
      "source": [
        "# prediction for Validation set\n",
        "prediction = []\n",
        "target = []\n",
        "\n",
        "for inputs, labels in validationloader:\n",
        "    model.eval()\n",
        "    batch_x, batch_y = inputs, labels\n",
        "\n",
        "    optimizer.zero_grad()\n",
        "    batch_y = batch_y.type(torch.LongTensor)\n",
        "    batch_x, batch_y = batch_x.to(device), batch_y.to(device)\n",
        "    outputs = model(batch_x)[0]\n",
        "\n",
        "    prediction.extend(torch.argmax(outputs, 1).tolist())\n",
        "    target.extend(batch_y.tolist())\n",
        "\n",
        "\n",
        "# training accuracy\n",
        "# print('Validation accuracy: \\t', accuracy_score(target, prediction))\n",
        "provide_metrics(target,prediction,'Validation')\n",
        "cm = confusion_matrix(target, prediction)\n",
        "plot_confusion_matrix(cm, ['0', '1', '2', '3', '4'], title='Validation Set: '+str(accuracy_score(target, prediction)))"
      ]
    },
    {
      "cell_type": "code",
      "execution_count": null,
      "metadata": {
        "id": "82a__exloiLF"
      },
      "outputs": [],
      "source": [
        "# # prediction for Test set\n",
        "# prediction = []\n",
        "# target = []\n",
        "\n",
        "# for inputs, labels in testloader:\n",
        "#     model.eval()\n",
        "#     batch_x, batch_y = inputs, labels\n",
        "\n",
        "#     optimizer.zero_grad()\n",
        "#     batch_y = batch_y.type(torch.LongTensor)\n",
        "#     batch_x, batch_y = batch_x.to(device), batch_y.to(device)\n",
        "#     outputs = model(batch_x)[0]\n",
        "\n",
        "#     prediction.extend(torch.argmax(outputs, 1).tolist())\n",
        "#     target.extend(batch_y.tolist())\n",
        "\n",
        "\n",
        "# # training accuracy\n",
        "# # print('Test accuracy: \\t', accuracy_score(target, prediction))\n",
        "# provide_metrics(target,prediction,'Testing')\n",
        "# cm = confusion_matrix(target, prediction)\n",
        "# plot_confusion_matrix(cm, ['0', '1', '2', '3', '4'], title='Test Set: '+str(accuracy_score(target, prediction)))"
      ]
    },
    {
      "cell_type": "code",
      "execution_count": null,
      "metadata": {
        "id": "JzMrFyUb1HGO"
      },
      "outputs": [],
      "source": []
    }
  ],
  "metadata": {
    "colab": {
      "toc_visible": true,
      "provenance": [],
      "include_colab_link": true
    },
    "kernelspec": {
      "display_name": "Python 3",
      "name": "python3"
    },
    "language_info": {
      "name": "python"
    }
  },
  "nbformat": 4,
  "nbformat_minor": 0
}